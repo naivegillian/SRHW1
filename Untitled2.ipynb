{
  "nbformat": 4,
  "nbformat_minor": 0,
  "metadata": {
    "colab": {
      "provenance": [],
      "authorship_tag": "ABX9TyPoI7MozBKcBk6k5YWEJduT",
      "include_colab_link": true
    },
    "kernelspec": {
      "name": "python3",
      "display_name": "Python 3"
    },
    "language_info": {
      "name": "python"
    }
  },
  "cells": [
    {
      "cell_type": "markdown",
      "metadata": {
        "id": "view-in-github",
        "colab_type": "text"
      },
      "source": [
        "<a href=\"https://colab.research.google.com/github/naivegillian/SRHW1/blob/main/Untitled2.ipynb\" target=\"_parent\"><img src=\"https://colab.research.google.com/assets/colab-badge.svg\" alt=\"Open In Colab\"/></a>"
      ]
    },
    {
      "cell_type": "code",
      "source": [
        "!pip install scipy"
      ],
      "metadata": {
        "colab": {
          "base_uri": "https://localhost:8080/"
        },
        "id": "zwpFhqzeW_js",
        "outputId": "fad0469f-fd93-4e0c-a0da-93eafd5f6751"
      },
      "execution_count": 3,
      "outputs": [
        {
          "output_type": "stream",
          "name": "stdout",
          "text": [
            "Looking in indexes: https://pypi.org/simple, https://us-python.pkg.dev/colab-wheels/public/simple/\n",
            "Requirement already satisfied: scipy in /usr/local/lib/python3.9/dist-packages (1.10.1)\n",
            "Requirement already satisfied: numpy<1.27.0,>=1.19.5 in /usr/local/lib/python3.9/dist-packages (from scipy) (1.22.4)\n"
          ]
        }
      ]
    },
    {
      "cell_type": "code",
      "source": [
        "!sudo apt install default-jre"
      ],
      "metadata": {
        "colab": {
          "base_uri": "https://localhost:8080/"
        },
        "id": "34ELGn9wokVY",
        "outputId": "29f608c7-6b5e-4cd7-a127-8beb62126653"
      },
      "execution_count": 1,
      "outputs": [
        {
          "output_type": "stream",
          "name": "stdout",
          "text": [
            "Reading package lists... Done\n",
            "Building dependency tree       \n",
            "Reading state information... Done\n",
            "default-jre is already the newest version (2:1.11-72).\n",
            "default-jre set to manually installed.\n",
            "0 upgraded, 0 newly installed, 0 to remove and 23 not upgraded.\n"
          ]
        }
      ]
    },
    {
      "cell_type": "code",
      "source": [
        "!git clone https://github.com/ecrc/BeBeCA.git"
      ],
      "metadata": {
        "colab": {
          "base_uri": "https://localhost:8080/"
        },
        "id": "RPOdKUHkXKM6",
        "outputId": "59ee09ce-5448-4768-af9f-8bb860e56377"
      },
      "execution_count": 2,
      "outputs": [
        {
          "output_type": "stream",
          "name": "stdout",
          "text": [
            "Cloning into 'BeBeCA'...\n",
            "remote: Enumerating objects: 188, done.\u001b[K\n",
            "remote: Total 188 (delta 0), reused 0 (delta 0), pack-reused 188\u001b[K\n",
            "Receiving objects: 100% (188/188), 2.94 MiB | 6.23 MiB/s, done.\n",
            "Resolving deltas: 100% (87/87), done.\n"
          ]
        }
      ]
    },
    {
      "cell_type": "code",
      "source": [
        "import os\n",
        "os.getcwd()"
      ],
      "metadata": {
        "colab": {
          "base_uri": "https://localhost:8080/",
          "height": 35
        },
        "id": "HlcEHtJxXT0L",
        "outputId": "3fdc0d1b-0679-4479-ce41-832500b740db"
      },
      "execution_count": 4,
      "outputs": [
        {
          "output_type": "execute_result",
          "data": {
            "text/plain": [
              "'/content'"
            ],
            "application/vnd.google.colaboratory.intrinsic+json": {
              "type": "string"
            }
          },
          "metadata": {},
          "execution_count": 4
        }
      ]
    },
    {
      "cell_type": "code",
      "source": [
        "%cd /content/BeBeCA/Evaluation_Methodology/"
      ],
      "metadata": {
        "colab": {
          "base_uri": "https://localhost:8080/"
        },
        "id": "F9lX-ytOYrGD",
        "outputId": "18f6b88f-649f-4585-fbb6-375654390228"
      },
      "execution_count": 5,
      "outputs": [
        {
          "output_type": "stream",
          "name": "stdout",
          "text": [
            "/content/BeBeCA/Evaluation_Methodology\n"
          ]
        }
      ]
    },
    {
      "cell_type": "code",
      "source": [
        "!chmod +x /content/BeBeCA/Evaluation_Methodology/BeBeCa.sh"
      ],
      "metadata": {
        "id": "-HOyX3haZRlx"
      },
      "execution_count": 7,
      "outputs": []
    },
    {
      "cell_type": "code",
      "source": [
        "!./BeBeCa.sh Exact_Betweenness/Normalized_Scores/ca-GrQc.txt RAND1_ca-GrQc.txt RAND1_Evaluate_ca-GrQc.txt"
      ],
      "metadata": {
        "colab": {
          "base_uri": "https://localhost:8080/"
        },
        "id": "gwXkFC7fXMLb",
        "outputId": "dd9d0d3c-5985-4785-902b-d4d6b38d1bc7"
      },
      "execution_count": 8,
      "outputs": [
        {
          "output_type": "stream",
          "name": "stdout",
          "text": [
            "Start Evaluating :.........\n",
            "\n",
            "Average Error = 9.65113e-05\n",
            "Maximum Error = 0.00233688\n",
            "\n",
            "Top 1% will compare 41 vertices\n",
            "Top Hit (41 v) managed to identify = 95.1219512195122 %\n",
            "\n",
            "Kindall Distance :=\n",
            "nan\n",
            "\n",
            "##### Done #####\n"
          ]
        }
      ]
    },
    {
      "cell_type": "code",
      "source": [
        "%cd /content/BeBeCA/Source_Code/"
      ],
      "metadata": {
        "colab": {
          "base_uri": "https://localhost:8080/"
        },
        "id": "Kt2fhrSalhZC",
        "outputId": "dda71d0b-c413-4070-da1a-beb8acdb24a7"
      },
      "execution_count": 9,
      "outputs": [
        {
          "output_type": "stream",
          "name": "stdout",
          "text": [
            "/content/BeBeCA/Source_Code\n"
          ]
        }
      ]
    },
    {
      "cell_type": "code",
      "source": [
        "!apt-get update && apt-get install -y openmpi-bin libopenmpi-dev"
      ],
      "metadata": {
        "colab": {
          "base_uri": "https://localhost:8080/"
        },
        "id": "NbgrX2ASpMY-",
        "outputId": "15aa5d5c-b353-463f-848c-69a029e81cea"
      },
      "execution_count": 10,
      "outputs": [
        {
          "output_type": "stream",
          "name": "stdout",
          "text": [
            "\r0% [Working]\r            \rGet:1 https://cloud.r-project.org/bin/linux/ubuntu focal-cran40/ InRelease [3,622 B]\n",
            "\r0% [Connecting to archive.ubuntu.com] [Connecting to security.ubuntu.com (91.18\r0% [Connecting to archive.ubuntu.com] [Connecting to security.ubuntu.com (91.18\r                                                                               \rGet:2 https://developer.download.nvidia.com/compute/cuda/repos/ubuntu2004/x86_64  InRelease [1,581 B]\n",
            "Get:3 http://security.ubuntu.com/ubuntu focal-security InRelease [114 kB]\n",
            "Hit:4 http://archive.ubuntu.com/ubuntu focal InRelease\n",
            "Get:5 http://archive.ubuntu.com/ubuntu focal-updates InRelease [114 kB]\n",
            "Get:6 http://ppa.launchpad.net/c2d4u.team/c2d4u4.0+/ubuntu focal InRelease [18.1 kB]\n",
            "Get:7 https://developer.download.nvidia.com/compute/cuda/repos/ubuntu2004/x86_64  Packages [920 kB]\n",
            "Get:8 http://archive.ubuntu.com/ubuntu focal-backports InRelease [108 kB]\n",
            "Hit:9 http://ppa.launchpad.net/cran/libgit2/ubuntu focal InRelease\n",
            "Get:10 http://security.ubuntu.com/ubuntu focal-security/universe amd64 Packages [1,017 kB]\n",
            "Hit:11 http://ppa.launchpad.net/deadsnakes/ppa/ubuntu focal InRelease\n",
            "Get:12 http://security.ubuntu.com/ubuntu focal-security/main amd64 Packages [2,544 kB]\n",
            "Get:13 http://archive.ubuntu.com/ubuntu focal-updates/universe amd64 Packages [1,313 kB]\n",
            "Hit:14 http://ppa.launchpad.net/graphics-drivers/ppa/ubuntu focal InRelease\n",
            "Hit:15 http://ppa.launchpad.net/ubuntugis/ppa/ubuntu focal InRelease\n",
            "Get:16 http://archive.ubuntu.com/ubuntu focal-updates/main amd64 Packages [3,021 kB]\n",
            "Get:17 http://ppa.launchpad.net/c2d4u.team/c2d4u4.0+/ubuntu focal/main Sources [2,398 kB]\n",
            "Get:18 http://ppa.launchpad.net/c2d4u.team/c2d4u4.0+/ubuntu focal/main amd64 Packages [1,136 kB]\n",
            "Fetched 12.7 MB in 4s (3,097 kB/s)\n",
            "Reading package lists... Done\n",
            "Reading package lists... Done\n",
            "Building dependency tree       \n",
            "Reading state information... Done\n",
            "libopenmpi-dev is already the newest version (4.0.3-0ubuntu1).\n",
            "openmpi-bin is already the newest version (4.0.3-0ubuntu1).\n",
            "openmpi-bin set to manually installed.\n",
            "0 upgraded, 0 newly installed, 0 to remove and 34 not upgraded.\n"
          ]
        }
      ]
    },
    {
      "cell_type": "code",
      "source": [
        "!pip install networkit"
      ],
      "metadata": {
        "colab": {
          "base_uri": "https://localhost:8080/"
        },
        "id": "A36vYVc0pSgF",
        "outputId": "b2735e57-0507-4798-89c3-908f991b98b6"
      },
      "execution_count": 11,
      "outputs": [
        {
          "output_type": "stream",
          "name": "stdout",
          "text": [
            "Looking in indexes: https://pypi.org/simple, https://us-python.pkg.dev/colab-wheels/public/simple/\n",
            "Collecting networkit\n",
            "  Downloading networkit-10.0-cp39-cp39-manylinux_2_12_x86_64.manylinux2010_x86_64.whl (9.8 MB)\n",
            "\u001b[2K     \u001b[90m━━━━━━━━━━━━━━━━━━━━━━━━━━━━━━━━━━━━━━━━\u001b[0m \u001b[32m9.8/9.8 MB\u001b[0m \u001b[31m57.8 MB/s\u001b[0m eta \u001b[36m0:00:00\u001b[0m\n",
            "\u001b[?25hRequirement already satisfied: numpy in /usr/local/lib/python3.9/dist-packages (from networkit) (1.22.4)\n",
            "Requirement already satisfied: scipy in /usr/local/lib/python3.9/dist-packages (from networkit) (1.10.1)\n",
            "Installing collected packages: networkit\n",
            "Successfully installed networkit-10.0\n"
          ]
        }
      ]
    },
    {
      "cell_type": "code",
      "source": [
        "! make"
      ],
      "metadata": {
        "colab": {
          "base_uri": "https://localhost:8080/"
        },
        "id": "UPiFSQAJoM9Q",
        "outputId": "ee1b0fb3-e958-413b-8626-2bc7b184d44d"
      },
      "execution_count": 12,
      "outputs": [
        {
          "output_type": "stream",
          "name": "stdout",
          "text": [
            "g++ -std=c++11 src/RAND1.cc src/_bc.cc -o RAND1\n",
            "\u001b[01m\u001b[Ksrc/_bc.cc:\u001b[m\u001b[K In function ‘\u001b[01m\u001b[Kint brandes_block_GSIZE(std::vector<double>*, sgraph_t*, int, double)\u001b[m\u001b[K’:\n",
            "\u001b[01m\u001b[Ksrc/_bc.cc:203:21:\u001b[m\u001b[K \u001b[01;35m\u001b[Kwarning: \u001b[m\u001b[Kformat ‘\u001b[01m\u001b[K%d\u001b[m\u001b[K’ expects argument of type ‘\u001b[01m\u001b[Kint\u001b[m\u001b[K’, but argument 2 has type ‘\u001b[01m\u001b[Kstd::vector<int>::size_type\u001b[m\u001b[K’ {aka ‘\u001b[01m\u001b[Klong unsigned int\u001b[m\u001b[K’} [\u001b[01;35m\u001b[K-Wformat=\u001b[m\u001b[K]\n",
            "  203 |  printf(\"\\nMaster: \u001b[01;35m\u001b[K%d\u001b[m\u001b[K of samples have been used\",\u001b[32m\u001b[Kalready_chosen.size()\u001b[m\u001b[K) ;\n",
            "      |                    \u001b[01;35m\u001b[K~^\u001b[m\u001b[K                            \u001b[32m\u001b[K~~~~~~~~~~~~~~~~~~~~~\u001b[m\u001b[K\n",
            "      |                     \u001b[01;35m\u001b[K|\u001b[m\u001b[K                                               \u001b[32m\u001b[K|\u001b[m\u001b[K\n",
            "      |                     \u001b[01;35m\u001b[Kint\u001b[m\u001b[K                                             \u001b[32m\u001b[Kstd::vector<int>::size_type {aka long unsigned int}\u001b[m\u001b[K\n",
            "      |                    \u001b[32m\u001b[K%ld\u001b[m\u001b[K\n",
            "g++ -std=c++11 src/GSIZE.cc src/_bc.cc -o GSIZE\n",
            "\u001b[01m\u001b[Ksrc/_bc.cc:\u001b[m\u001b[K In function ‘\u001b[01m\u001b[Kint brandes_block_GSIZE(std::vector<double>*, sgraph_t*, int, double)\u001b[m\u001b[K’:\n",
            "\u001b[01m\u001b[Ksrc/_bc.cc:203:21:\u001b[m\u001b[K \u001b[01;35m\u001b[Kwarning: \u001b[m\u001b[Kformat ‘\u001b[01m\u001b[K%d\u001b[m\u001b[K’ expects argument of type ‘\u001b[01m\u001b[Kint\u001b[m\u001b[K’, but argument 2 has type ‘\u001b[01m\u001b[Kstd::vector<int>::size_type\u001b[m\u001b[K’ {aka ‘\u001b[01m\u001b[Klong unsigned int\u001b[m\u001b[K’} [\u001b[01;35m\u001b[K-Wformat=\u001b[m\u001b[K]\n",
            "  203 |  printf(\"\\nMaster: \u001b[01;35m\u001b[K%d\u001b[m\u001b[K of samples have been used\",\u001b[32m\u001b[Kalready_chosen.size()\u001b[m\u001b[K) ;\n",
            "      |                    \u001b[01;35m\u001b[K~^\u001b[m\u001b[K                            \u001b[32m\u001b[K~~~~~~~~~~~~~~~~~~~~~\u001b[m\u001b[K\n",
            "      |                     \u001b[01;35m\u001b[K|\u001b[m\u001b[K                                               \u001b[32m\u001b[K|\u001b[m\u001b[K\n",
            "      |                     \u001b[01;35m\u001b[Kint\u001b[m\u001b[K                                             \u001b[32m\u001b[Kstd::vector<int>::size_type {aka long unsigned int}\u001b[m\u001b[K\n",
            "      |                    \u001b[32m\u001b[K%ld\u001b[m\u001b[K\n",
            "g++ -std=c++11 src/KPATH.cc src/_bc.cc -o KPATH\n",
            "\u001b[01m\u001b[Ksrc/KPATH.cc:\u001b[m\u001b[K In function ‘\u001b[01m\u001b[Kvoid run_KPATH(std::string, char*, int)\u001b[m\u001b[K’:\n",
            "\u001b[01m\u001b[Ksrc/KPATH.cc:34:58:\u001b[m\u001b[K \u001b[01;35m\u001b[Kwarning: \u001b[m\u001b[Kformat ‘\u001b[01m\u001b[K%d\u001b[m\u001b[K’ expects argument of type ‘\u001b[01m\u001b[Kint\u001b[m\u001b[K’, but argument 4 has type ‘\u001b[01m\u001b[Ksize_t\u001b[m\u001b[K’ {aka ‘\u001b[01m\u001b[Klong unsigned int\u001b[m\u001b[K’} [\u001b[01;35m\u001b[K-Wformat=\u001b[m\u001b[K]\n",
            "   34 |  printf(\"\\n@STAT Alg# KPATH GRAPH# %s TIME# %f SAMPLES# \u001b[01;35m\u001b[K%d\u001b[m\u001b[K\\n\", graph_name.c_str(), tm.interval(), \u001b[32m\u001b[Kcomp.size()\u001b[m\u001b[K) ;\n",
            "      |                                                         \u001b[01;35m\u001b[K~^\u001b[m\u001b[K                                        \u001b[32m\u001b[K~~~~~~~~~~~\u001b[m\u001b[K\n",
            "      |                                                          \u001b[01;35m\u001b[K|\u001b[m\u001b[K                                                 \u001b[32m\u001b[K|\u001b[m\u001b[K\n",
            "      |                                                          \u001b[01;35m\u001b[Kint\u001b[m\u001b[K                                               \u001b[32m\u001b[Ksize_t {aka long unsigned int}\u001b[m\u001b[K\n",
            "      |                                                         \u001b[32m\u001b[K%ld\u001b[m\u001b[K\n",
            "\u001b[01m\u001b[Ksrc/_bc.cc:\u001b[m\u001b[K In function ‘\u001b[01m\u001b[Kint brandes_block_GSIZE(std::vector<double>*, sgraph_t*, int, double)\u001b[m\u001b[K’:\n",
            "\u001b[01m\u001b[Ksrc/_bc.cc:203:21:\u001b[m\u001b[K \u001b[01;35m\u001b[Kwarning: \u001b[m\u001b[Kformat ‘\u001b[01m\u001b[K%d\u001b[m\u001b[K’ expects argument of type ‘\u001b[01m\u001b[Kint\u001b[m\u001b[K’, but argument 2 has type ‘\u001b[01m\u001b[Kstd::vector<int>::size_type\u001b[m\u001b[K’ {aka ‘\u001b[01m\u001b[Klong unsigned int\u001b[m\u001b[K’} [\u001b[01;35m\u001b[K-Wformat=\u001b[m\u001b[K]\n",
            "  203 |  printf(\"\\nMaster: \u001b[01;35m\u001b[K%d\u001b[m\u001b[K of samples have been used\",\u001b[32m\u001b[Kalready_chosen.size()\u001b[m\u001b[K) ;\n",
            "      |                    \u001b[01;35m\u001b[K~^\u001b[m\u001b[K                            \u001b[32m\u001b[K~~~~~~~~~~~~~~~~~~~~~\u001b[m\u001b[K\n",
            "      |                     \u001b[01;35m\u001b[K|\u001b[m\u001b[K                                               \u001b[32m\u001b[K|\u001b[m\u001b[K\n",
            "      |                     \u001b[01;35m\u001b[Kint\u001b[m\u001b[K                                             \u001b[32m\u001b[Kstd::vector<int>::size_type {aka long unsigned int}\u001b[m\u001b[K\n",
            "      |                    \u001b[32m\u001b[K%ld\u001b[m\u001b[K\n",
            "g++ -std=c++11 src/EGO.cc src/_bc.cc -o EGO\t\n",
            "\u001b[01m\u001b[Ksrc/EGO.cc:\u001b[m\u001b[K In function ‘\u001b[01m\u001b[Kvoid run_EGO(std::string, char*)\u001b[m\u001b[K’:\n",
            "\u001b[01m\u001b[Ksrc/EGO.cc:33:56:\u001b[m\u001b[K \u001b[01;35m\u001b[Kwarning: \u001b[m\u001b[Kformat ‘\u001b[01m\u001b[K%d\u001b[m\u001b[K’ expects argument of type ‘\u001b[01m\u001b[Kint\u001b[m\u001b[K’, but argument 4 has type ‘\u001b[01m\u001b[Ksize_t\u001b[m\u001b[K’ {aka ‘\u001b[01m\u001b[Klong unsigned int\u001b[m\u001b[K’} [\u001b[01;35m\u001b[K-Wformat=\u001b[m\u001b[K]\n",
            "   33 |  printf(\"\\n@STAT Alg# EGO GRAPH# %s TIME# %f SAMPLES# \u001b[01;35m\u001b[K%d\u001b[m\u001b[K\\n\", graph_name.c_str(), tm.interval(), \u001b[32m\u001b[Kcomp.size()\u001b[m\u001b[K) ;\n",
            "      |                                                       \u001b[01;35m\u001b[K~^\u001b[m\u001b[K                                        \u001b[32m\u001b[K~~~~~~~~~~~\u001b[m\u001b[K\n",
            "      |                                                        \u001b[01;35m\u001b[K|\u001b[m\u001b[K                                                 \u001b[32m\u001b[K|\u001b[m\u001b[K\n",
            "      |                                                        \u001b[01;35m\u001b[Kint\u001b[m\u001b[K                                               \u001b[32m\u001b[Ksize_t {aka long unsigned int}\u001b[m\u001b[K\n",
            "      |                                                       \u001b[32m\u001b[K%ld\u001b[m\u001b[K\n",
            "\u001b[01m\u001b[Ksrc/_bc.cc:\u001b[m\u001b[K In function ‘\u001b[01m\u001b[Kint brandes_block_GSIZE(std::vector<double>*, sgraph_t*, int, double)\u001b[m\u001b[K’:\n",
            "\u001b[01m\u001b[Ksrc/_bc.cc:203:21:\u001b[m\u001b[K \u001b[01;35m\u001b[Kwarning: \u001b[m\u001b[Kformat ‘\u001b[01m\u001b[K%d\u001b[m\u001b[K’ expects argument of type ‘\u001b[01m\u001b[Kint\u001b[m\u001b[K’, but argument 2 has type ‘\u001b[01m\u001b[Kstd::vector<int>::size_type\u001b[m\u001b[K’ {aka ‘\u001b[01m\u001b[Klong unsigned int\u001b[m\u001b[K’} [\u001b[01;35m\u001b[K-Wformat=\u001b[m\u001b[K]\n",
            "  203 |  printf(\"\\nMaster: \u001b[01;35m\u001b[K%d\u001b[m\u001b[K of samples have been used\",\u001b[32m\u001b[Kalready_chosen.size()\u001b[m\u001b[K) ;\n",
            "      |                    \u001b[01;35m\u001b[K~^\u001b[m\u001b[K                            \u001b[32m\u001b[K~~~~~~~~~~~~~~~~~~~~~\u001b[m\u001b[K\n",
            "      |                     \u001b[01;35m\u001b[K|\u001b[m\u001b[K                                               \u001b[32m\u001b[K|\u001b[m\u001b[K\n",
            "      |                     \u001b[01;35m\u001b[Kint\u001b[m\u001b[K                                             \u001b[32m\u001b[Kstd::vector<int>::size_type {aka long unsigned int}\u001b[m\u001b[K\n",
            "      |                    \u001b[32m\u001b[K%ld\u001b[m\u001b[K\n",
            "mpic++ -std=c++11 src/PBrandes.cc src/p_bc.cc -o Parallel_Brandes\n",
            "\u001b[01m\u001b[Ksrc/PBrandes.cc:\u001b[m\u001b[K In function ‘\u001b[01m\u001b[Kvoid run_parallel_brandes(std::string, char*, int)\u001b[m\u001b[K’:\n",
            "\u001b[01m\u001b[Ksrc/PBrandes.cc:34:64:\u001b[m\u001b[K \u001b[01;35m\u001b[Kwarning: \u001b[m\u001b[Kformat ‘\u001b[01m\u001b[K%d\u001b[m\u001b[K’ expects argument of type ‘\u001b[01m\u001b[Kint\u001b[m\u001b[K’, but argument 3 has type ‘\u001b[01m\u001b[Ksize_t\u001b[m\u001b[K’ {aka ‘\u001b[01m\u001b[Klong unsigned int\u001b[m\u001b[K’} [\u001b[01;35m\u001b[K-Wformat=\u001b[m\u001b[K]\n",
            "   34 |    printf(\"Traverse From %d Random Vertices for Graph of Size \u001b[01;35m\u001b[K%d\u001b[m\u001b[K \\n\",number_of_vercies, \u001b[32m\u001b[Kcomp.size()\u001b[m\u001b[K) ;\n",
            "      |                                                               \u001b[01;35m\u001b[K~^\u001b[m\u001b[K                        \u001b[32m\u001b[K~~~~~~~~~~~\u001b[m\u001b[K\n",
            "      |                                                                \u001b[01;35m\u001b[K|\u001b[m\u001b[K                                 \u001b[32m\u001b[K|\u001b[m\u001b[K\n",
            "      |                                                                \u001b[01;35m\u001b[Kint\u001b[m\u001b[K                               \u001b[32m\u001b[Ksize_t {aka long unsigned int}\u001b[m\u001b[K\n",
            "      |                                                               \u001b[32m\u001b[K%ld\u001b[m\u001b[K\n",
            "\u001b[01m\u001b[Ksrc/PBrandes.cc:59:61:\u001b[m\u001b[K \u001b[01;35m\u001b[Kwarning: \u001b[m\u001b[Kformat ‘\u001b[01m\u001b[K%d\u001b[m\u001b[K’ expects argument of type ‘\u001b[01m\u001b[Kint\u001b[m\u001b[K’, but argument 4 has type ‘\u001b[01m\u001b[Ksize_t\u001b[m\u001b[K’ {aka ‘\u001b[01m\u001b[Klong unsigned int\u001b[m\u001b[K’} [\u001b[01;35m\u001b[K-Wformat=\u001b[m\u001b[K]\n",
            "   59 |   printf(\"\\n@STAT Alg# Brandes GRAPH# %s TIME# %f SAMPLES# \u001b[01;35m\u001b[K%d\u001b[m\u001b[K\\n\", graph_name.c_str(), tm.interval(), \u001b[32m\u001b[Kcomp.size()\u001b[m\u001b[K) ;\n",
            "      |                                                            \u001b[01;35m\u001b[K~^\u001b[m\u001b[K                                        \u001b[32m\u001b[K~~~~~~~~~~~\u001b[m\u001b[K\n",
            "      |                                                             \u001b[01;35m\u001b[K|\u001b[m\u001b[K                                                 \u001b[32m\u001b[K|\u001b[m\u001b[K\n",
            "      |                                                             \u001b[01;35m\u001b[Kint\u001b[m\u001b[K                                               \u001b[32m\u001b[Ksize_t {aka long unsigned int}\u001b[m\u001b[K\n",
            "      |                                                            \u001b[32m\u001b[K%ld\u001b[m\u001b[K\n",
            "g++ -std=c++11 src/NetworKitApps.cpp -o ApproxKit -lNetworKit -fopenmp -lnlopt\n",
            "\u001b[01m\u001b[Ksrc/NetworKitApps.cpp:10:10:\u001b[m\u001b[K \u001b[01;31m\u001b[Kfatal error: \u001b[m\u001b[KNetworKit/centrality/Betweenness.h: No such file or directory\n",
            "   10 | #include \u001b[01;31m\u001b[K<NetworKit/centrality/Betweenness.h>\u001b[m\u001b[K\n",
            "      |          \u001b[01;31m\u001b[K^~~~~~~~~~~~~~~~~~~~~~~~~~~~~~~~~~~~\u001b[m\u001b[K\n",
            "compilation terminated.\n",
            "make: *** [Makefile:34: ApproxKit] Error 1\n"
          ]
        }
      ]
    },
    {
      "cell_type": "code",
      "source": [],
      "metadata": {
        "id": "sUNe5jUmrVXc"
      },
      "execution_count": 12,
      "outputs": []
    },
    {
      "cell_type": "code",
      "source": [
        "! ./RAND1 200 ca-GrQc.lcc.net ca-GrQc.lcc_Scores.txt"
      ],
      "metadata": {
        "colab": {
          "base_uri": "https://localhost:8080/"
        },
        "id": "gqsmJpDlk1AT",
        "outputId": "bca41f5d-d749-4583-cbc1-a0f8738aa66d"
      },
      "execution_count": 19,
      "outputs": [
        {
          "output_type": "stream",
          "name": "stdout",
          "text": [
            "Can't open the file [ca-GrQc.lcc.net]\n"
          ]
        }
      ]
    },
    {
      "cell_type": "code",
      "source": [
        "!chmod +x /content/BeBeCA/Evaluation_Methodology/Graphs/ca-GrQc.lcc.net"
      ],
      "metadata": {
        "id": "IgMU_UnJmBLK"
      },
      "execution_count": 18,
      "outputs": []
    },
    {
      "cell_type": "markdown",
      "source": [
        "# 新增區段"
      ],
      "metadata": {
        "id": "pBvfwRCWXu6j"
      }
    },
    {
      "cell_type": "code",
      "source": [
        "!git clone https://github.com/natema/kadabra.git"
      ],
      "metadata": {
        "colab": {
          "base_uri": "https://localhost:8080/"
        },
        "id": "qoL2ZYbEz3Od",
        "outputId": "c7709c90-5b70-4dcf-dfda-9392d61be0aa"
      },
      "execution_count": null,
      "outputs": [
        {
          "output_type": "stream",
          "name": "stdout",
          "text": [
            "Cloning into 'kadabra'...\n",
            "remote: Enumerating objects: 49, done.\u001b[K\n",
            "remote: Total 49 (delta 0), reused 0 (delta 0), pack-reused 49\u001b[K\n",
            "Unpacking objects: 100% (49/49), 297.17 KiB | 3.30 MiB/s, done.\n"
          ]
        }
      ]
    },
    {
      "cell_type": "code",
      "source": [
        "%cd /content/kadabra/"
      ],
      "metadata": {
        "colab": {
          "base_uri": "https://localhost:8080/"
        },
        "id": "GtjGvaD80ZCL",
        "outputId": "aeae79b7-2aaa-4c1d-ad0e-26dbd75c7125"
      },
      "execution_count": null,
      "outputs": [
        {
          "output_type": "stream",
          "name": "stdout",
          "text": [
            "/content/kadabra\n"
          ]
        }
      ]
    },
    {
      "cell_type": "code",
      "source": [
        "!apt-get install libomp-dev\n",
        "!apt-get install g++"
      ],
      "metadata": {
        "colab": {
          "base_uri": "https://localhost:8080/"
        },
        "id": "PMlBKMARhlb9",
        "outputId": "63838089-700e-46af-bbdf-e6963f99508b"
      },
      "execution_count": null,
      "outputs": [
        {
          "output_type": "stream",
          "name": "stdout",
          "text": [
            "Reading package lists... Done\n",
            "Building dependency tree       \n",
            "Reading state information... Done\n",
            "The following additional packages will be installed:\n",
            "  libomp-10-dev libomp5-10\n",
            "Suggested packages:\n",
            "  libomp-10-doc\n",
            "The following NEW packages will be installed:\n",
            "  libomp-10-dev libomp-dev libomp5-10\n",
            "0 upgraded, 3 newly installed, 0 to remove and 22 not upgraded.\n",
            "Need to get 351 kB of archives.\n",
            "After this operation, 2,281 kB of additional disk space will be used.\n",
            "Get:1 http://archive.ubuntu.com/ubuntu focal/universe amd64 libomp5-10 amd64 1:10.0.0-4ubuntu1 [300 kB]\n",
            "Get:2 http://archive.ubuntu.com/ubuntu focal/universe amd64 libomp-10-dev amd64 1:10.0.0-4ubuntu1 [47.7 kB]\n",
            "Get:3 http://archive.ubuntu.com/ubuntu focal/universe amd64 libomp-dev amd64 1:10.0-50~exp1 [2,824 B]\n",
            "Fetched 351 kB in 0s (1,264 kB/s)\n",
            "Selecting previously unselected package libomp5-10:amd64.\n",
            "(Reading database ... 128275 files and directories currently installed.)\n",
            "Preparing to unpack .../libomp5-10_1%3a10.0.0-4ubuntu1_amd64.deb ...\n",
            "Unpacking libomp5-10:amd64 (1:10.0.0-4ubuntu1) ...\n",
            "Selecting previously unselected package libomp-10-dev.\n",
            "Preparing to unpack .../libomp-10-dev_1%3a10.0.0-4ubuntu1_amd64.deb ...\n",
            "Unpacking libomp-10-dev (1:10.0.0-4ubuntu1) ...\n",
            "Selecting previously unselected package libomp-dev.\n",
            "Preparing to unpack .../libomp-dev_1%3a10.0-50~exp1_amd64.deb ...\n",
            "Unpacking libomp-dev (1:10.0-50~exp1) ...\n",
            "Setting up libomp5-10:amd64 (1:10.0.0-4ubuntu1) ...\n",
            "Setting up libomp-10-dev (1:10.0.0-4ubuntu1) ...\n",
            "Setting up libomp-dev (1:10.0-50~exp1) ...\n",
            "Processing triggers for libc-bin (2.31-0ubuntu9.9) ...\n",
            "Reading package lists... Done\n",
            "Building dependency tree       \n",
            "Reading state information... Done\n",
            "g++ is already the newest version (4:9.3.0-1ubuntu2).\n",
            "g++ set to manually installed.\n",
            "0 upgraded, 0 newly installed, 0 to remove and 22 not upgraded.\n"
          ]
        }
      ]
    },
    {
      "cell_type": "code",
      "source": [
        "! make"
      ],
      "metadata": {
        "colab": {
          "base_uri": "https://localhost:8080/"
        },
        "id": "cnD_8PF1h-1s",
        "outputId": "334e6a1f-70df-44ef-c86f-0466e1ff2113"
      },
      "execution_count": null,
      "outputs": [
        {
          "output_type": "stream",
          "name": "stdout",
          "text": [
            "g++ -fopenmp -std=c++11 -Ofast -Wall -g -Iinclude main.cpp src/* -lm -o kadabra\n"
          ]
        }
      ]
    },
    {
      "cell_type": "code",
      "source": [
        "!./kadabra 0.002 0.1 example_input/facebook_combined.txt"
      ],
      "metadata": {
        "colab": {
          "base_uri": "https://localhost:8080/"
        },
        "id": "jj6SbR3c2GDy",
        "outputId": "160aa360-d049-4844-a4b3-63a862896605"
      },
      "execution_count": null,
      "outputs": [
        {
          "output_type": "stream",
          "name": "stdout",
          "text": [
            "Undirected graph\n",
            "Number of nodes: 4039\n",
            "Number of edges: 176468\n",
            "\n",
            "Finished after 722436 iterations.\n",
            "Edges visited: 4556330507\n",
            "Average edges visited: 6306\n",
            "Total time: 30.9797\n",
            "Time bfs: 28.7083\n",
            "Time critical: 0.867422\n",
            "Time compute finished: 1.04782\n",
            "(Printing thread: 0)\n",
            "Maximum confidence interval: 0.00234951\n"
          ]
        }
      ]
    }
  ]
}