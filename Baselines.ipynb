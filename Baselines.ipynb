{
  "cells": [
    {
      "cell_type": "code",
      "execution_count": null,
      "metadata": {
        "colab": {
          "base_uri": "https://localhost:8080/"
        },
        "id": "zwpFhqzeW_js",
        "outputId": "45f0b8ff-5aa9-4bd0-f88d-60cb01f3ea52"
      },
      "outputs": [
        {
          "name": "stdout",
          "output_type": "stream",
          "text": [
            "Looking in indexes: https://pypi.org/simple, https://us-python.pkg.dev/colab-wheels/public/simple/\n",
            "Requirement already satisfied: scipy in /usr/local/lib/python3.9/dist-packages (1.10.1)\n",
            "Requirement already satisfied: numpy<1.27.0,>=1.19.5 in /usr/local/lib/python3.9/dist-packages (from scipy) (1.22.4)\n"
          ]
        }
      ],
      "source": [
        "!pip install scipy"
      ]
    },
    {
      "cell_type": "code",
      "execution_count": null,
      "metadata": {
        "colab": {
          "base_uri": "https://localhost:8080/"
        },
        "id": "34ELGn9wokVY",
        "outputId": "4410e6d6-05ab-4bc9-cb6c-880cc0657e1d"
      },
      "outputs": [
        {
          "name": "stdout",
          "output_type": "stream",
          "text": [
            "Reading package lists... Done\n",
            "Building dependency tree       \n",
            "Reading state information... Done\n",
            "default-jre is already the newest version (2:1.11-72).\n",
            "default-jre set to manually installed.\n",
            "0 upgraded, 0 newly installed, 0 to remove and 23 not upgraded.\n"
          ]
        }
      ],
      "source": [
        "!sudo apt install default-jre"
      ]
    },
    {
      "cell_type": "code",
      "execution_count": null,
      "metadata": {
        "colab": {
          "base_uri": "https://localhost:8080/"
        },
        "id": "RPOdKUHkXKM6",
        "outputId": "d878d469-e32e-4b6a-e8b1-f9d44f10b8a3"
      },
      "outputs": [
        {
          "name": "stdout",
          "output_type": "stream",
          "text": [
            "Cloning into 'BeBeCA'...\n",
            "remote: Enumerating objects: 188, done.\u001b[K\n",
            "remote: Total 188 (delta 0), reused 0 (delta 0), pack-reused 188\u001b[K\n",
            "Receiving objects: 100% (188/188), 2.94 MiB | 19.17 MiB/s, done.\n",
            "Resolving deltas: 100% (87/87), done.\n"
          ]
        }
      ],
      "source": [
        "!git clone https://github.com/ecrc/BeBeCA.git"
      ]
    },
    {
      "cell_type": "code",
      "execution_count": null,
      "metadata": {
        "colab": {
          "base_uri": "https://localhost:8080/",
          "height": 35
        },
        "id": "HlcEHtJxXT0L",
        "outputId": "17e04f18-d54f-4258-d497-4e51adecc6bc"
      },
      "outputs": [
        {
          "data": {
            "application/vnd.google.colaboratory.intrinsic+json": {
              "type": "string"
            },
            "text/plain": [
              "'/content'"
            ]
          },
          "execution_count": 4,
          "metadata": {},
          "output_type": "execute_result"
        }
      ],
      "source": [
        "import os\n",
        "os.getcwd()"
      ]
    },
    {
      "cell_type": "code",
      "execution_count": null,
      "metadata": {
        "colab": {
          "base_uri": "https://localhost:8080/"
        },
        "id": "F9lX-ytOYrGD",
        "outputId": "52a7f200-e0cb-46d5-e009-9face2c3f61a"
      },
      "outputs": [
        {
          "name": "stdout",
          "output_type": "stream",
          "text": [
            "/content/BeBeCA/Evaluation_Methodology\n"
          ]
        }
      ],
      "source": [
        "%cd /content/BeBeCA/Evaluation_Methodology/"
      ]
    },
    {
      "cell_type": "code",
      "execution_count": null,
      "metadata": {
        "id": "-HOyX3haZRlx"
      },
      "outputs": [],
      "source": [
        "!chmod +x /content/BeBeCA/Evaluation_Methodology/BeBeCa.sh"
      ]
    },
    {
      "cell_type": "code",
      "execution_count": null,
      "metadata": {
        "colab": {
          "base_uri": "https://localhost:8080/"
        },
        "id": "gwXkFC7fXMLb",
        "outputId": "ccafd2d9-008c-4cd8-b40f-d13f1caf1922"
      },
      "outputs": [
        {
          "name": "stdout",
          "output_type": "stream",
          "text": [
            "Start Evaluating :.........\n",
            "\n",
            "Average Error = 9.65113e-05\n",
            "Maximum Error = 0.00233688\n",
            "\n",
            "Top 1% will compare 41 vertices\n",
            "Top Hit (41 v) managed to identify = 95.1219512195122 %\n",
            "\n",
            "Kindall Distance :=\n",
            "nan\n",
            "\n",
            "##### Done #####\n"
          ]
        }
      ],
      "source": [
        "!./BeBeCa.sh Exact_Betweenness/Normalized_Scores/ca-GrQc.txt RAND1_ca-GrQc.txt RAND1_Evaluate_ca-GrQc.txt"
      ]
    },
    {
      "cell_type": "code",
      "execution_count": null,
      "metadata": {
        "colab": {
          "base_uri": "https://localhost:8080/"
        },
        "id": "Kt2fhrSalhZC",
        "outputId": "996d6349-6e05-42c4-bfd7-6df9d14e2422"
      },
      "outputs": [
        {
          "name": "stdout",
          "output_type": "stream",
          "text": [
            "/content/BeBeCA/Source_Code\n"
          ]
        }
      ],
      "source": [
        "%cd /content/BeBeCA/Source_Code/"
      ]
    },
    {
      "cell_type": "code",
      "execution_count": null,
      "metadata": {
        "colab": {
          "base_uri": "https://localhost:8080/"
        },
        "id": "NbgrX2ASpMY-",
        "outputId": "e62f07d2-acf3-4b70-a3fa-de015afdc51f"
      },
      "outputs": [
        {
          "name": "stdout",
          "output_type": "stream",
          "text": [
            "\r0% [Working]\r            \rGet:1 https://cloud.r-project.org/bin/linux/ubuntu focal-cran40/ InRelease [3,622 B]\n",
            "\r0% [Connecting to archive.ubuntu.com] [Connecting to security.ubuntu.com (185.1\r0% [Connecting to archive.ubuntu.com] [Connecting to security.ubuntu.com (185.1\r                                                                               \rGet:2 https://developer.download.nvidia.com/compute/cuda/repos/ubuntu2004/x86_64  InRelease [1,581 B]\n",
            "\r0% [Connecting to archive.ubuntu.com (185.125.190.36)] [Waiting for headers] [W\r0% [Connecting to archive.ubuntu.com (185.125.190.36)] [Waiting for headers] [W\r                                                                               \rGet:3 http://security.ubuntu.com/ubuntu focal-security InRelease [114 kB]\n",
            "\r0% [Connecting to archive.ubuntu.com (185.125.190.36)] [3 InRelease 14.2 kB/114\r                                                                               \rGet:4 http://ppa.launchpad.net/c2d4u.team/c2d4u4.0+/ubuntu focal InRelease [18.1 kB]\n",
            "Hit:5 http://archive.ubuntu.com/ubuntu focal InRelease\n",
            "Get:6 https://cloud.r-project.org/bin/linux/ubuntu focal-cran40/ Packages [74.2 kB]\n",
            "Get:7 http://archive.ubuntu.com/ubuntu focal-updates InRelease [114 kB]\n",
            "Hit:8 http://ppa.launchpad.net/cran/libgit2/ubuntu focal InRelease\n",
            "Get:9 https://developer.download.nvidia.com/compute/cuda/repos/ubuntu2004/x86_64  Packages [923 kB]\n",
            "Hit:10 http://ppa.launchpad.net/deadsnakes/ppa/ubuntu focal InRelease\n",
            "Get:11 http://archive.ubuntu.com/ubuntu focal-backports InRelease [108 kB]\n",
            "Hit:12 http://ppa.launchpad.net/graphics-drivers/ppa/ubuntu focal InRelease\n",
            "Hit:13 http://ppa.launchpad.net/ubuntugis/ppa/ubuntu focal InRelease\n",
            "Get:14 http://ppa.launchpad.net/c2d4u.team/c2d4u4.0+/ubuntu focal/main Sources [2,403 kB]\n",
            "Get:15 http://security.ubuntu.com/ubuntu focal-security/universe amd64 Packages [1,019 kB]\n",
            "Get:16 http://ppa.launchpad.net/c2d4u.team/c2d4u4.0+/ubuntu focal/main amd64 Packages [1,138 kB]\n",
            "Get:17 http://security.ubuntu.com/ubuntu focal-security/main amd64 Packages [2,545 kB]\n",
            "Get:18 http://archive.ubuntu.com/ubuntu focal-updates/restricted amd64 Packages [2,141 kB]\n",
            "Get:19 http://archive.ubuntu.com/ubuntu focal-updates/universe amd64 Packages [1,314 kB]\n",
            "Get:20 http://archive.ubuntu.com/ubuntu focal-updates/main amd64 Packages [3,026 kB]\n",
            "Fetched 14.9 MB in 4s (3,742 kB/s)\n",
            "Reading package lists... Done\n",
            "Reading package lists... Done\n",
            "Building dependency tree       \n",
            "Reading state information... Done\n",
            "libopenmpi-dev is already the newest version (4.0.3-0ubuntu1).\n",
            "openmpi-bin is already the newest version (4.0.3-0ubuntu1).\n",
            "openmpi-bin set to manually installed.\n",
            "0 upgraded, 0 newly installed, 0 to remove and 41 not upgraded.\n"
          ]
        }
      ],
      "source": [
        "!apt-get update && apt-get install -y openmpi-bin libopenmpi-dev"
      ]
    },
    {
      "cell_type": "code",
      "execution_count": null,
      "metadata": {
        "colab": {
          "base_uri": "https://localhost:8080/"
        },
        "id": "A36vYVc0pSgF",
        "outputId": "1e7f874c-93ee-4bce-9ccc-12dc14faade1"
      },
      "outputs": [
        {
          "name": "stdout",
          "output_type": "stream",
          "text": [
            "Looking in indexes: https://pypi.org/simple, https://us-python.pkg.dev/colab-wheels/public/simple/\n",
            "Collecting networkit\n",
            "  Downloading networkit-10.0-cp39-cp39-manylinux_2_12_x86_64.manylinux2010_x86_64.whl (9.8 MB)\n",
            "\u001b[2K     \u001b[90m━━━━━━━━━━━━━━━━━━━━━━━━━━━━━━━━━━━━━━━━\u001b[0m \u001b[32m9.8/9.8 MB\u001b[0m \u001b[31m46.0 MB/s\u001b[0m eta \u001b[36m0:00:00\u001b[0m\n",
            "\u001b[?25hRequirement already satisfied: scipy in /usr/local/lib/python3.9/dist-packages (from networkit) (1.10.1)\n",
            "Requirement already satisfied: numpy in /usr/local/lib/python3.9/dist-packages (from networkit) (1.22.4)\n",
            "Installing collected packages: networkit\n",
            "Successfully installed networkit-10.0\n"
          ]
        }
      ],
      "source": [
        "!pip install networkit"
      ]
    },
    {
      "cell_type": "code",
      "execution_count": null,
      "metadata": {
        "colab": {
          "base_uri": "https://localhost:8080/",
          "height": 17
        },
        "id": "67kTJoVvHuJX",
        "outputId": "2fda8d28-b88e-48f3-f7e6-6b42daa5711a"
      },
      "outputs": [
        {
          "data": {
            "text/html": [
              "\n",
              "\t\t\t<script type=\"text/javascript\">\n",
              "\t\t\t<!--\n",
              "\t\t\t\t\n",
              "\t\t\t{\n",
              "\t\t\t\tvar element = document.getElementById('NetworKit_script');\n",
              "\t\t\t\tif (element) {\n",
              "\t\t\t\t\telement.parentNode.removeChild(element);\n",
              "\t\t\t\t}\n",
              "\t\t\t\telement = document.createElement('script');\n",
              "\t\t\t\telement.type = 'text/javascript';\n",
              "\t\t\t\telement.innerHTML = 'function NetworKit_pageEmbed(id) { var i, j; var elements; elements = document.getElementById(id).getElementsByClassName(\"Plot\"); for (i=0; i<elements.length; i++) { elements[i].id = id + \"_Plot_\" + i; var data = elements[i].getAttribute(\"data-image\").split(\"|\"); elements[i].removeAttribute(\"data-image\"); var content = \"<div class=\\\\\"Image\\\\\" id=\\\\\"\" + elements[i].id + \"_Image\\\\\" />\"; elements[i].innerHTML = content; elements[i].setAttribute(\"data-image-index\", 0); elements[i].setAttribute(\"data-image-length\", data.length); for (j=0; j<data.length; j++) { elements[i].setAttribute(\"data-image-\" + j, data[j]); } NetworKit_plotUpdate(elements[i]); elements[i].onclick = function (e) { NetworKit_overlayShow((e.target) ? e.target : e.srcElement); } } elements = document.getElementById(id).getElementsByClassName(\"HeatCell\"); for (i=0; i<elements.length; i++) { var data = parseFloat(elements[i].getAttribute(\"data-heat\")); var color = \"#00FF00\"; if (data <= 1 && data > 0) { color = \"hsla(0, 100%, 75%, \" + (data) + \")\"; } else if (data <= 0 && data >= -1) { color = \"hsla(240, 100%, 75%, \" + (-data) + \")\"; } elements[i].style.backgroundColor = color; } elements = document.getElementById(id).getElementsByClassName(\"Details\"); for (i=0; i<elements.length; i++) { elements[i].setAttribute(\"data-title\", \"-\"); NetworKit_toggleDetails(elements[i]); elements[i].onclick = function (e) { NetworKit_toggleDetails((e.target) ? e.target : e.srcElement); } } elements = document.getElementById(id).getElementsByClassName(\"MathValue\"); for (i=elements.length-1; i>=0; i--) { value = elements[i].innerHTML.trim(); if (value === \"nan\") { elements[i].parentNode.innerHTML = \"\" } } elements = document.getElementById(id).getElementsByClassName(\"SubCategory\"); for (i=elements.length-1; i>=0; i--) { value = elements[i].innerHTML.trim(); if (value === \"\") { elements[i].parentNode.removeChild(elements[i]) } } elements = document.getElementById(id).getElementsByClassName(\"Category\"); for (i=elements.length-1; i>=0; i--) { value = elements[i].innerHTML.trim(); if (value === \"\") { elements[i].parentNode.removeChild(elements[i]) } } var isFirefox = false; try { isFirefox = typeof InstallTrigger !== \"undefined\"; } catch (e) {} if (!isFirefox) { alert(\"Currently the function\\'s output is only fully supported by Firefox.\"); } } function NetworKit_plotUpdate(source) { var index = source.getAttribute(\"data-image-index\"); var data = source.getAttribute(\"data-image-\" + index); var image = document.getElementById(source.id + \"_Image\"); image.style.backgroundImage = \"url(\" + data + \")\"; } function NetworKit_showElement(id, show) { var element = document.getElementById(id); element.style.display = (show) ? \"block\" : \"none\"; } function NetworKit_overlayShow(source) { NetworKit_overlayUpdate(source); NetworKit_showElement(\"NetworKit_Overlay\", true); } function NetworKit_overlayUpdate(source) { document.getElementById(\"NetworKit_Overlay_Title\").innerHTML = source.title; var index = source.getAttribute(\"data-image-index\"); var data = source.getAttribute(\"data-image-\" + index); var image = document.getElementById(\"NetworKit_Overlay_Image\"); image.setAttribute(\"data-id\", source.id); image.style.backgroundImage = \"url(\" + data + \")\"; var link = document.getElementById(\"NetworKit_Overlay_Toolbar_Bottom_Save\"); link.href = data; link.download = source.title + \".svg\"; } function NetworKit_overlayImageShift(delta) { var image = document.getElementById(\"NetworKit_Overlay_Image\"); var source = document.getElementById(image.getAttribute(\"data-id\")); var index = parseInt(source.getAttribute(\"data-image-index\")); var length = parseInt(source.getAttribute(\"data-image-length\")); var index = (index+delta) % length; if (index < 0) { index = length + index; } source.setAttribute(\"data-image-index\", index); NetworKit_overlayUpdate(source); } function NetworKit_toggleDetails(source) { var childs = source.children; var show = false; if (source.getAttribute(\"data-title\") == \"-\") { source.setAttribute(\"data-title\", \"+\"); show = false; } else { source.setAttribute(\"data-title\", \"-\"); show = true; } for (i=0; i<childs.length; i++) { if (show) { childs[i].style.display = \"block\"; } else { childs[i].style.display = \"none\"; } } }';\n",
              "\t\t\t\telement.setAttribute('id', 'NetworKit_script');\n",
              "\t\t\t\tdocument.head.appendChild(element);\n",
              "\t\t\t}\n",
              "\t\t\n",
              "\t\t\t\t\n",
              "\t\t\t{\n",
              "\t\t\t\tvar element = document.getElementById('NetworKit_style');\n",
              "\t\t\t\tif (element) {\n",
              "\t\t\t\t\telement.parentNode.removeChild(element);\n",
              "\t\t\t\t}\n",
              "\t\t\t\telement = document.createElement('style');\n",
              "\t\t\t\telement.type = 'text/css';\n",
              "\t\t\t\telement.innerHTML = '.NetworKit_Page { font-family: Arial, Helvetica, sans-serif; font-size: 14px; } .NetworKit_Page .Value:before { font-family: Arial, Helvetica, sans-serif; font-size: 1.05em; content: attr(data-title) \":\"; margin-left: -2.5em; padding-right: 0.5em; } .NetworKit_Page .Details .Value:before { display: block; } .NetworKit_Page .Value { font-family: monospace; white-space: pre; padding-left: 2.5em; white-space: -moz-pre-wrap !important; white-space: -pre-wrap; white-space: -o-pre-wrap; white-space: pre-wrap; word-wrap: break-word; tab-size: 4; -moz-tab-size: 4; } .NetworKit_Page .Category { clear: both; padding-left: 1em; margin-bottom: 1.5em; } .NetworKit_Page .Category:before { content: attr(data-title); font-size: 1.75em; display: block; margin-left: -0.8em; margin-bottom: 0.5em; } .NetworKit_Page .SubCategory { margin-bottom: 1.5em; padding-left: 1em; } .NetworKit_Page .SubCategory:before { font-size: 1.6em; display: block; margin-left: -0.8em; margin-bottom: 0.5em; } .NetworKit_Page .SubCategory[data-title]:before { content: attr(data-title); } .NetworKit_Page .Block { display: block; } .NetworKit_Page .Block:after { content: \".\"; visibility: hidden; display: block; height: 0; clear: both; } .NetworKit_Page .Block .Thumbnail_Overview, .NetworKit_Page .Block .Thumbnail_ScatterPlot { width: 260px; float: left; } .NetworKit_Page .Block .Thumbnail_Overview img, .NetworKit_Page .Block .Thumbnail_ScatterPlot img { width: 260px; } .NetworKit_Page .Block .Thumbnail_Overview:before, .NetworKit_Page .Block .Thumbnail_ScatterPlot:before { display: block; text-align: center; font-weight: bold; } .NetworKit_Page .Block .Thumbnail_Overview:before { content: attr(data-title); } .NetworKit_Page .HeatCell { font-family: \"Courier New\", Courier, monospace; cursor: pointer; } .NetworKit_Page .HeatCell, .NetworKit_Page .HeatCellName { display: inline; padding: 0.1em; margin-right: 2px; background-color: #FFFFFF } .NetworKit_Page .HeatCellName { margin-left: 0.25em; } .NetworKit_Page .HeatCell:before { content: attr(data-heat); display: inline-block; color: #000000; width: 4em; text-align: center; } .NetworKit_Page .Measure { clear: both; } .NetworKit_Page .Measure .Details { cursor: pointer; } .NetworKit_Page .Measure .Details:before { content: \"[\" attr(data-title) \"]\"; display: block; } .NetworKit_Page .Measure .Details .Value { border-left: 1px dotted black; margin-left: 0.4em; padding-left: 3.5em; pointer-events: none; } .NetworKit_Page .Measure .Details .Spacer:before { content: \".\"; opacity: 0.0; pointer-events: none; } .NetworKit_Page .Measure .Plot { width: 440px; height: 440px; cursor: pointer; float: left; margin-left: -0.9em; margin-right: 20px; } .NetworKit_Page .Measure .Plot .Image { background-repeat: no-repeat; background-position: center center; background-size: contain; height: 100%; pointer-events: none; } .NetworKit_Page .Measure .Stat { width: 500px; float: left; } .NetworKit_Page .Measure .Stat .Group { padding-left: 1.25em; margin-bottom: 0.75em; } .NetworKit_Page .Measure .Stat .Group .Title { font-size: 1.1em; display: block; margin-bottom: 0.3em; margin-left: -0.75em; border-right-style: dotted; border-right-width: 1px; border-bottom-style: dotted; border-bottom-width: 1px; background-color: #D0D0D0; padding-left: 0.2em; } .NetworKit_Page .Measure .Stat .Group .List { -webkit-column-count: 3; -moz-column-count: 3; column-count: 3; } .NetworKit_Page .Measure .Stat .Group .List .Entry { position: relative; line-height: 1.75em; } .NetworKit_Page .Measure .Stat .Group .List .Entry[data-tooltip]:before { position: absolute; left: 0; top: -40px; background-color: #808080; color: #ffffff; height: 30px; line-height: 30px; border-radius: 5px; padding: 0 15px; content: attr(data-tooltip); white-space: nowrap; display: none; } .NetworKit_Page .Measure .Stat .Group .List .Entry[data-tooltip]:after { position: absolute; left: 15px; top: -10px; border-top: 7px solid #808080; border-left: 7px solid transparent; border-right: 7px solid transparent; content: \"\"; display: none; } .NetworKit_Page .Measure .Stat .Group .List .Entry[data-tooltip]:hover:after, .NetworKit_Page .Measure .Stat .Group .List .Entry[data-tooltip]:hover:before { display: block; } .NetworKit_Page .Measure .Stat .Group .List .Entry .MathValue { font-family: \"Courier New\", Courier, monospace; } .NetworKit_Page .Measure:after { content: \".\"; visibility: hidden; display: block; height: 0; clear: both; } .NetworKit_Page .PartitionPie { clear: both; } .NetworKit_Page .PartitionPie img { width: 600px; } #NetworKit_Overlay { left: 0px; top: 0px; display: none; position: absolute; width: 100%; height: 100%; background-color: rgba(0,0,0,0.6); z-index: 1000; } #NetworKit_Overlay_Title { position: absolute; color: white; transform: rotate(-90deg); width: 32em; height: 32em; padding-right: 0.5em; padding-top: 0.5em; text-align: right; font-size: 40px; } #NetworKit_Overlay .button { background: white; cursor: pointer; } #NetworKit_Overlay .button:before { size: 13px; display: inline-block; text-align: center; margin-top: 0.5em; margin-bottom: 0.5em; width: 1.5em; height: 1.5em; } #NetworKit_Overlay .icon-close:before { content: \"X\"; } #NetworKit_Overlay .icon-previous:before { content: \"P\"; } #NetworKit_Overlay .icon-next:before { content: \"N\"; } #NetworKit_Overlay .icon-save:before { content: \"S\"; } #NetworKit_Overlay_Toolbar_Top, #NetworKit_Overlay_Toolbar_Bottom { position: absolute; width: 40px; right: 13px; text-align: right; z-index: 1100; } #NetworKit_Overlay_Toolbar_Top { top: 0.5em; } #NetworKit_Overlay_Toolbar_Bottom { Bottom: 0.5em; } #NetworKit_Overlay_ImageContainer { position: absolute; top: 5%; left: 5%; height: 90%; width: 90%; background-repeat: no-repeat; background-position: center center; background-size: contain; } #NetworKit_Overlay_Image { height: 100%; width: 100%; background-repeat: no-repeat; background-position: center center; background-size: contain; }';\n",
              "\t\t\t\telement.setAttribute('id', 'NetworKit_style');\n",
              "\t\t\t\tdocument.head.appendChild(element);\n",
              "\t\t\t}\n",
              "\t\t\n",
              "\t\t\t\t\n",
              "\t\t\t{\n",
              "\t\t\t\tvar element = document.getElementById('NetworKit_Overlay');\n",
              "\t\t\t\tif (element) {\n",
              "\t\t\t\t\telement.parentNode.removeChild(element);\n",
              "\t\t\t\t}\n",
              "\t\t\t\telement = document.createElement('div');\n",
              "\t\t\t\telement.innerHTML = '<div id=\"NetworKit_Overlay_Toolbar_Top\"><div class=\"button icon-close\" id=\"NetworKit_Overlay_Close\" /></div><div id=\"NetworKit_Overlay_Title\" /> <div id=\"NetworKit_Overlay_ImageContainer\"> <div id=\"NetworKit_Overlay_Image\" /> </div> <div id=\"NetworKit_Overlay_Toolbar_Bottom\"> <div class=\"button icon-previous\" onclick=\"NetworKit_overlayImageShift(-1)\" /> <div class=\"button icon-next\" onclick=\"NetworKit_overlayImageShift(1)\" /> <a id=\"NetworKit_Overlay_Toolbar_Bottom_Save\"><div class=\"button icon-save\" /></a> </div>';\n",
              "\t\t\t\telement.setAttribute('id', 'NetworKit_Overlay');\n",
              "\t\t\t\tdocument.body.appendChild(element);\n",
              "\t\t\t\tdocument.getElementById('NetworKit_Overlay_Close').onclick = function (e) {\n",
              "\t\t\t\t\tdocument.getElementById('NetworKit_Overlay').style.display = 'none';\n",
              "\t\t\t\t}\n",
              "\t\t\t}\n",
              "\t\t\n",
              "\t\t\t-->\n",
              "\t\t\t</script>\n",
              "\t\t"
            ]
          },
          "metadata": {},
          "output_type": "display_data"
        }
      ],
      "source": [
        "import networkit"
      ]
    },
    {
      "cell_type": "code",
      "execution_count": null,
      "metadata": {
        "colab": {
          "base_uri": "https://localhost:8080/"
        },
        "id": "UPiFSQAJoM9Q",
        "outputId": "0ef63055-0bb5-4e77-860d-3d5c57e06246"
      },
      "outputs": [
        {
          "name": "stdout",
          "output_type": "stream",
          "text": [
            "g++ -std=c++11 src/RAND1.cc src/_bc.cc -o RAND1\n",
            "\u001b[01m\u001b[Ksrc/_bc.cc:\u001b[m\u001b[K In function ‘\u001b[01m\u001b[Kint brandes_block_GSIZE(std::vector<double>*, sgraph_t*, int, double)\u001b[m\u001b[K’:\n",
            "\u001b[01m\u001b[Ksrc/_bc.cc:203:21:\u001b[m\u001b[K \u001b[01;35m\u001b[Kwarning: \u001b[m\u001b[Kformat ‘\u001b[01m\u001b[K%d\u001b[m\u001b[K’ expects argument of type ‘\u001b[01m\u001b[Kint\u001b[m\u001b[K’, but argument 2 has type ‘\u001b[01m\u001b[Kstd::vector<int>::size_type\u001b[m\u001b[K’ {aka ‘\u001b[01m\u001b[Klong unsigned int\u001b[m\u001b[K’} [\u001b[01;35m\u001b[K-Wformat=\u001b[m\u001b[K]\n",
            "  203 |  printf(\"\\nMaster: \u001b[01;35m\u001b[K%d\u001b[m\u001b[K of samples have been used\",\u001b[32m\u001b[Kalready_chosen.size()\u001b[m\u001b[K) ;\n",
            "      |                    \u001b[01;35m\u001b[K~^\u001b[m\u001b[K                            \u001b[32m\u001b[K~~~~~~~~~~~~~~~~~~~~~\u001b[m\u001b[K\n",
            "      |                     \u001b[01;35m\u001b[K|\u001b[m\u001b[K                                               \u001b[32m\u001b[K|\u001b[m\u001b[K\n",
            "      |                     \u001b[01;35m\u001b[Kint\u001b[m\u001b[K                                             \u001b[32m\u001b[Kstd::vector<int>::size_type {aka long unsigned int}\u001b[m\u001b[K\n",
            "      |                    \u001b[32m\u001b[K%ld\u001b[m\u001b[K\n",
            "g++ -std=c++11 src/GSIZE.cc src/_bc.cc -o GSIZE\n",
            "\u001b[01m\u001b[Ksrc/_bc.cc:\u001b[m\u001b[K In function ‘\u001b[01m\u001b[Kint brandes_block_GSIZE(std::vector<double>*, sgraph_t*, int, double)\u001b[m\u001b[K’:\n",
            "\u001b[01m\u001b[Ksrc/_bc.cc:203:21:\u001b[m\u001b[K \u001b[01;35m\u001b[Kwarning: \u001b[m\u001b[Kformat ‘\u001b[01m\u001b[K%d\u001b[m\u001b[K’ expects argument of type ‘\u001b[01m\u001b[Kint\u001b[m\u001b[K’, but argument 2 has type ‘\u001b[01m\u001b[Kstd::vector<int>::size_type\u001b[m\u001b[K’ {aka ‘\u001b[01m\u001b[Klong unsigned int\u001b[m\u001b[K’} [\u001b[01;35m\u001b[K-Wformat=\u001b[m\u001b[K]\n",
            "  203 |  printf(\"\\nMaster: \u001b[01;35m\u001b[K%d\u001b[m\u001b[K of samples have been used\",\u001b[32m\u001b[Kalready_chosen.size()\u001b[m\u001b[K) ;\n",
            "      |                    \u001b[01;35m\u001b[K~^\u001b[m\u001b[K                            \u001b[32m\u001b[K~~~~~~~~~~~~~~~~~~~~~\u001b[m\u001b[K\n",
            "      |                     \u001b[01;35m\u001b[K|\u001b[m\u001b[K                                               \u001b[32m\u001b[K|\u001b[m\u001b[K\n",
            "      |                     \u001b[01;35m\u001b[Kint\u001b[m\u001b[K                                             \u001b[32m\u001b[Kstd::vector<int>::size_type {aka long unsigned int}\u001b[m\u001b[K\n",
            "      |                    \u001b[32m\u001b[K%ld\u001b[m\u001b[K\n",
            "g++ -std=c++11 src/KPATH.cc src/_bc.cc -o KPATH\n",
            "\u001b[01m\u001b[Ksrc/KPATH.cc:\u001b[m\u001b[K In function ‘\u001b[01m\u001b[Kvoid run_KPATH(std::string, char*, int)\u001b[m\u001b[K’:\n",
            "\u001b[01m\u001b[Ksrc/KPATH.cc:34:58:\u001b[m\u001b[K \u001b[01;35m\u001b[Kwarning: \u001b[m\u001b[Kformat ‘\u001b[01m\u001b[K%d\u001b[m\u001b[K’ expects argument of type ‘\u001b[01m\u001b[Kint\u001b[m\u001b[K’, but argument 4 has type ‘\u001b[01m\u001b[Ksize_t\u001b[m\u001b[K’ {aka ‘\u001b[01m\u001b[Klong unsigned int\u001b[m\u001b[K’} [\u001b[01;35m\u001b[K-Wformat=\u001b[m\u001b[K]\n",
            "   34 |  printf(\"\\n@STAT Alg# KPATH GRAPH# %s TIME# %f SAMPLES# \u001b[01;35m\u001b[K%d\u001b[m\u001b[K\\n\", graph_name.c_str(), tm.interval(), \u001b[32m\u001b[Kcomp.size()\u001b[m\u001b[K) ;\n",
            "      |                                                         \u001b[01;35m\u001b[K~^\u001b[m\u001b[K                                        \u001b[32m\u001b[K~~~~~~~~~~~\u001b[m\u001b[K\n",
            "      |                                                          \u001b[01;35m\u001b[K|\u001b[m\u001b[K                                                 \u001b[32m\u001b[K|\u001b[m\u001b[K\n",
            "      |                                                          \u001b[01;35m\u001b[Kint\u001b[m\u001b[K                                               \u001b[32m\u001b[Ksize_t {aka long unsigned int}\u001b[m\u001b[K\n",
            "      |                                                         \u001b[32m\u001b[K%ld\u001b[m\u001b[K\n",
            "\u001b[01m\u001b[Ksrc/_bc.cc:\u001b[m\u001b[K In function ‘\u001b[01m\u001b[Kint brandes_block_GSIZE(std::vector<double>*, sgraph_t*, int, double)\u001b[m\u001b[K’:\n",
            "\u001b[01m\u001b[Ksrc/_bc.cc:203:21:\u001b[m\u001b[K \u001b[01;35m\u001b[Kwarning: \u001b[m\u001b[Kformat ‘\u001b[01m\u001b[K%d\u001b[m\u001b[K’ expects argument of type ‘\u001b[01m\u001b[Kint\u001b[m\u001b[K’, but argument 2 has type ‘\u001b[01m\u001b[Kstd::vector<int>::size_type\u001b[m\u001b[K’ {aka ‘\u001b[01m\u001b[Klong unsigned int\u001b[m\u001b[K’} [\u001b[01;35m\u001b[K-Wformat=\u001b[m\u001b[K]\n",
            "  203 |  printf(\"\\nMaster: \u001b[01;35m\u001b[K%d\u001b[m\u001b[K of samples have been used\",\u001b[32m\u001b[Kalready_chosen.size()\u001b[m\u001b[K) ;\n",
            "      |                    \u001b[01;35m\u001b[K~^\u001b[m\u001b[K                            \u001b[32m\u001b[K~~~~~~~~~~~~~~~~~~~~~\u001b[m\u001b[K\n",
            "      |                     \u001b[01;35m\u001b[K|\u001b[m\u001b[K                                               \u001b[32m\u001b[K|\u001b[m\u001b[K\n",
            "      |                     \u001b[01;35m\u001b[Kint\u001b[m\u001b[K                                             \u001b[32m\u001b[Kstd::vector<int>::size_type {aka long unsigned int}\u001b[m\u001b[K\n",
            "      |                    \u001b[32m\u001b[K%ld\u001b[m\u001b[K\n",
            "g++ -std=c++11 src/EGO.cc src/_bc.cc -o EGO\t\n",
            "\u001b[01m\u001b[Ksrc/EGO.cc:\u001b[m\u001b[K In function ‘\u001b[01m\u001b[Kvoid run_EGO(std::string, char*)\u001b[m\u001b[K’:\n",
            "\u001b[01m\u001b[Ksrc/EGO.cc:33:56:\u001b[m\u001b[K \u001b[01;35m\u001b[Kwarning: \u001b[m\u001b[Kformat ‘\u001b[01m\u001b[K%d\u001b[m\u001b[K’ expects argument of type ‘\u001b[01m\u001b[Kint\u001b[m\u001b[K’, but argument 4 has type ‘\u001b[01m\u001b[Ksize_t\u001b[m\u001b[K’ {aka ‘\u001b[01m\u001b[Klong unsigned int\u001b[m\u001b[K’} [\u001b[01;35m\u001b[K-Wformat=\u001b[m\u001b[K]\n",
            "   33 |  printf(\"\\n@STAT Alg# EGO GRAPH# %s TIME# %f SAMPLES# \u001b[01;35m\u001b[K%d\u001b[m\u001b[K\\n\", graph_name.c_str(), tm.interval(), \u001b[32m\u001b[Kcomp.size()\u001b[m\u001b[K) ;\n",
            "      |                                                       \u001b[01;35m\u001b[K~^\u001b[m\u001b[K                                        \u001b[32m\u001b[K~~~~~~~~~~~\u001b[m\u001b[K\n",
            "      |                                                        \u001b[01;35m\u001b[K|\u001b[m\u001b[K                                                 \u001b[32m\u001b[K|\u001b[m\u001b[K\n",
            "      |                                                        \u001b[01;35m\u001b[Kint\u001b[m\u001b[K                                               \u001b[32m\u001b[Ksize_t {aka long unsigned int}\u001b[m\u001b[K\n",
            "      |                                                       \u001b[32m\u001b[K%ld\u001b[m\u001b[K\n",
            "\u001b[01m\u001b[Ksrc/_bc.cc:\u001b[m\u001b[K In function ‘\u001b[01m\u001b[Kint brandes_block_GSIZE(std::vector<double>*, sgraph_t*, int, double)\u001b[m\u001b[K’:\n",
            "\u001b[01m\u001b[Ksrc/_bc.cc:203:21:\u001b[m\u001b[K \u001b[01;35m\u001b[Kwarning: \u001b[m\u001b[Kformat ‘\u001b[01m\u001b[K%d\u001b[m\u001b[K’ expects argument of type ‘\u001b[01m\u001b[Kint\u001b[m\u001b[K’, but argument 2 has type ‘\u001b[01m\u001b[Kstd::vector<int>::size_type\u001b[m\u001b[K’ {aka ‘\u001b[01m\u001b[Klong unsigned int\u001b[m\u001b[K’} [\u001b[01;35m\u001b[K-Wformat=\u001b[m\u001b[K]\n",
            "  203 |  printf(\"\\nMaster: \u001b[01;35m\u001b[K%d\u001b[m\u001b[K of samples have been used\",\u001b[32m\u001b[Kalready_chosen.size()\u001b[m\u001b[K) ;\n",
            "      |                    \u001b[01;35m\u001b[K~^\u001b[m\u001b[K                            \u001b[32m\u001b[K~~~~~~~~~~~~~~~~~~~~~\u001b[m\u001b[K\n",
            "      |                     \u001b[01;35m\u001b[K|\u001b[m\u001b[K                                               \u001b[32m\u001b[K|\u001b[m\u001b[K\n",
            "      |                     \u001b[01;35m\u001b[Kint\u001b[m\u001b[K                                             \u001b[32m\u001b[Kstd::vector<int>::size_type {aka long unsigned int}\u001b[m\u001b[K\n",
            "      |                    \u001b[32m\u001b[K%ld\u001b[m\u001b[K\n",
            "mpic++ -std=c++11 src/PBrandes.cc src/p_bc.cc -o Parallel_Brandes\n",
            "\u001b[01m\u001b[Ksrc/PBrandes.cc:\u001b[m\u001b[K In function ‘\u001b[01m\u001b[Kvoid run_parallel_brandes(std::string, char*, int)\u001b[m\u001b[K’:\n",
            "\u001b[01m\u001b[Ksrc/PBrandes.cc:34:64:\u001b[m\u001b[K \u001b[01;35m\u001b[Kwarning: \u001b[m\u001b[Kformat ‘\u001b[01m\u001b[K%d\u001b[m\u001b[K’ expects argument of type ‘\u001b[01m\u001b[Kint\u001b[m\u001b[K’, but argument 3 has type ‘\u001b[01m\u001b[Ksize_t\u001b[m\u001b[K’ {aka ‘\u001b[01m\u001b[Klong unsigned int\u001b[m\u001b[K’} [\u001b[01;35m\u001b[K-Wformat=\u001b[m\u001b[K]\n",
            "   34 |    printf(\"Traverse From %d Random Vertices for Graph of Size \u001b[01;35m\u001b[K%d\u001b[m\u001b[K \\n\",number_of_vercies, \u001b[32m\u001b[Kcomp.size()\u001b[m\u001b[K) ;\n",
            "      |                                                               \u001b[01;35m\u001b[K~^\u001b[m\u001b[K                        \u001b[32m\u001b[K~~~~~~~~~~~\u001b[m\u001b[K\n",
            "      |                                                                \u001b[01;35m\u001b[K|\u001b[m\u001b[K                                 \u001b[32m\u001b[K|\u001b[m\u001b[K\n",
            "      |                                                                \u001b[01;35m\u001b[Kint\u001b[m\u001b[K                               \u001b[32m\u001b[Ksize_t {aka long unsigned int}\u001b[m\u001b[K\n",
            "      |                                                               \u001b[32m\u001b[K%ld\u001b[m\u001b[K\n",
            "\u001b[01m\u001b[Ksrc/PBrandes.cc:59:61:\u001b[m\u001b[K \u001b[01;35m\u001b[Kwarning: \u001b[m\u001b[Kformat ‘\u001b[01m\u001b[K%d\u001b[m\u001b[K’ expects argument of type ‘\u001b[01m\u001b[Kint\u001b[m\u001b[K’, but argument 4 has type ‘\u001b[01m\u001b[Ksize_t\u001b[m\u001b[K’ {aka ‘\u001b[01m\u001b[Klong unsigned int\u001b[m\u001b[K’} [\u001b[01;35m\u001b[K-Wformat=\u001b[m\u001b[K]\n",
            "   59 |   printf(\"\\n@STAT Alg# Brandes GRAPH# %s TIME# %f SAMPLES# \u001b[01;35m\u001b[K%d\u001b[m\u001b[K\\n\", graph_name.c_str(), tm.interval(), \u001b[32m\u001b[Kcomp.size()\u001b[m\u001b[K) ;\n",
            "      |                                                            \u001b[01;35m\u001b[K~^\u001b[m\u001b[K                                        \u001b[32m\u001b[K~~~~~~~~~~~\u001b[m\u001b[K\n",
            "      |                                                             \u001b[01;35m\u001b[K|\u001b[m\u001b[K                                                 \u001b[32m\u001b[K|\u001b[m\u001b[K\n",
            "      |                                                             \u001b[01;35m\u001b[Kint\u001b[m\u001b[K                                               \u001b[32m\u001b[Ksize_t {aka long unsigned int}\u001b[m\u001b[K\n",
            "      |                                                            \u001b[32m\u001b[K%ld\u001b[m\u001b[K\n",
            "g++ -std=c++11 src/NetworKitApps.cpp -o ApproxKit -lNetworKit -fopenmp -lnlopt\n",
            "\u001b[01m\u001b[Ksrc/NetworKitApps.cpp:10:10:\u001b[m\u001b[K \u001b[01;31m\u001b[Kfatal error: \u001b[m\u001b[KNetworKit/centrality/Betweenness.h: No such file or directory\n",
            "   10 | #include \u001b[01;31m\u001b[K<NetworKit/centrality/Betweenness.h>\u001b[m\u001b[K\n",
            "      |          \u001b[01;31m\u001b[K^~~~~~~~~~~~~~~~~~~~~~~~~~~~~~~~~~~~\u001b[m\u001b[K\n",
            "compilation terminated.\n",
            "make: *** [Makefile:34: ApproxKit] Error 1\n"
          ]
        }
      ],
      "source": [
        "! make"
      ]
    },
    {
      "cell_type": "code",
      "execution_count": null,
      "metadata": {
        "colab": {
          "base_uri": "https://localhost:8080/"
        },
        "id": "gqsmJpDlk1AT",
        "outputId": "4920f6ec-93c2-4020-8d6a-8bbce53dc4ab"
      },
      "outputs": [
        {
          "name": "stdout",
          "output_type": "stream",
          "text": [
            "===================================================================================\n",
            "Computation is Running for RAND1 and sample size = 200\n",
            "\n",
            "Master: Start sampling vertices\n",
            "Master: Start estimating betweenness from samppled vertices\n",
            "@STAT\tAlg#\tRAND1\tGRAPH#\tca-GrQc.lcc.net\tTIME#\t1.026208\tSAMPLES#\t200\n",
            "\n",
            "Results computed and printed in (ca-GrQc.lcc_Scores.txt)\n"
          ]
        }
      ],
      "source": [
        "! ./RAND1 200 /content/BeBeCA/Evaluation_Methodology/Graphs/ca-GrQc.lcc.net ca-GrQc.lcc_Scores.txt"
      ]
    },
    {
      "cell_type": "code",
      "execution_count": null,
      "metadata": {
        "colab": {
          "base_uri": "https://localhost:8080/",
          "height": 353
        },
        "id": "Oc1QCue5BT-t",
        "outputId": "8c2ef321-768d-420f-fe69-16e9591f31d8"
      },
      "outputs": [
        {
          "data": {
            "text/html": [
              "\n",
              "     <input type=\"file\" id=\"files-295a78a4-69e5-4a3c-8a73-cf301cdf2101\" name=\"files[]\" multiple disabled\n",
              "        style=\"border:none\" />\n",
              "     <output id=\"result-295a78a4-69e5-4a3c-8a73-cf301cdf2101\">\n",
              "      Upload widget is only available when the cell has been executed in the\n",
              "      current browser session. Please rerun this cell to enable.\n",
              "      </output>\n",
              "      <script>// Copyright 2017 Google LLC\n",
              "//\n",
              "// Licensed under the Apache License, Version 2.0 (the \"License\");\n",
              "// you may not use this file except in compliance with the License.\n",
              "// You may obtain a copy of the License at\n",
              "//\n",
              "//      http://www.apache.org/licenses/LICENSE-2.0\n",
              "//\n",
              "// Unless required by applicable law or agreed to in writing, software\n",
              "// distributed under the License is distributed on an \"AS IS\" BASIS,\n",
              "// WITHOUT WARRANTIES OR CONDITIONS OF ANY KIND, either express or implied.\n",
              "// See the License for the specific language governing permissions and\n",
              "// limitations under the License.\n",
              "\n",
              "/**\n",
              " * @fileoverview Helpers for google.colab Python module.\n",
              " */\n",
              "(function(scope) {\n",
              "function span(text, styleAttributes = {}) {\n",
              "  const element = document.createElement('span');\n",
              "  element.textContent = text;\n",
              "  for (const key of Object.keys(styleAttributes)) {\n",
              "    element.style[key] = styleAttributes[key];\n",
              "  }\n",
              "  return element;\n",
              "}\n",
              "\n",
              "// Max number of bytes which will be uploaded at a time.\n",
              "const MAX_PAYLOAD_SIZE = 100 * 1024;\n",
              "\n",
              "function _uploadFiles(inputId, outputId) {\n",
              "  const steps = uploadFilesStep(inputId, outputId);\n",
              "  const outputElement = document.getElementById(outputId);\n",
              "  // Cache steps on the outputElement to make it available for the next call\n",
              "  // to uploadFilesContinue from Python.\n",
              "  outputElement.steps = steps;\n",
              "\n",
              "  return _uploadFilesContinue(outputId);\n",
              "}\n",
              "\n",
              "// This is roughly an async generator (not supported in the browser yet),\n",
              "// where there are multiple asynchronous steps and the Python side is going\n",
              "// to poll for completion of each step.\n",
              "// This uses a Promise to block the python side on completion of each step,\n",
              "// then passes the result of the previous step as the input to the next step.\n",
              "function _uploadFilesContinue(outputId) {\n",
              "  const outputElement = document.getElementById(outputId);\n",
              "  const steps = outputElement.steps;\n",
              "\n",
              "  const next = steps.next(outputElement.lastPromiseValue);\n",
              "  return Promise.resolve(next.value.promise).then((value) => {\n",
              "    // Cache the last promise value to make it available to the next\n",
              "    // step of the generator.\n",
              "    outputElement.lastPromiseValue = value;\n",
              "    return next.value.response;\n",
              "  });\n",
              "}\n",
              "\n",
              "/**\n",
              " * Generator function which is called between each async step of the upload\n",
              " * process.\n",
              " * @param {string} inputId Element ID of the input file picker element.\n",
              " * @param {string} outputId Element ID of the output display.\n",
              " * @return {!Iterable<!Object>} Iterable of next steps.\n",
              " */\n",
              "function* uploadFilesStep(inputId, outputId) {\n",
              "  const inputElement = document.getElementById(inputId);\n",
              "  inputElement.disabled = false;\n",
              "\n",
              "  const outputElement = document.getElementById(outputId);\n",
              "  outputElement.innerHTML = '';\n",
              "\n",
              "  const pickedPromise = new Promise((resolve) => {\n",
              "    inputElement.addEventListener('change', (e) => {\n",
              "      resolve(e.target.files);\n",
              "    });\n",
              "  });\n",
              "\n",
              "  const cancel = document.createElement('button');\n",
              "  inputElement.parentElement.appendChild(cancel);\n",
              "  cancel.textContent = 'Cancel upload';\n",
              "  const cancelPromise = new Promise((resolve) => {\n",
              "    cancel.onclick = () => {\n",
              "      resolve(null);\n",
              "    };\n",
              "  });\n",
              "\n",
              "  // Wait for the user to pick the files.\n",
              "  const files = yield {\n",
              "    promise: Promise.race([pickedPromise, cancelPromise]),\n",
              "    response: {\n",
              "      action: 'starting',\n",
              "    }\n",
              "  };\n",
              "\n",
              "  cancel.remove();\n",
              "\n",
              "  // Disable the input element since further picks are not allowed.\n",
              "  inputElement.disabled = true;\n",
              "\n",
              "  if (!files) {\n",
              "    return {\n",
              "      response: {\n",
              "        action: 'complete',\n",
              "      }\n",
              "    };\n",
              "  }\n",
              "\n",
              "  for (const file of files) {\n",
              "    const li = document.createElement('li');\n",
              "    li.append(span(file.name, {fontWeight: 'bold'}));\n",
              "    li.append(span(\n",
              "        `(${file.type || 'n/a'}) - ${file.size} bytes, ` +\n",
              "        `last modified: ${\n",
              "            file.lastModifiedDate ? file.lastModifiedDate.toLocaleDateString() :\n",
              "                                    'n/a'} - `));\n",
              "    const percent = span('0% done');\n",
              "    li.appendChild(percent);\n",
              "\n",
              "    outputElement.appendChild(li);\n",
              "\n",
              "    const fileDataPromise = new Promise((resolve) => {\n",
              "      const reader = new FileReader();\n",
              "      reader.onload = (e) => {\n",
              "        resolve(e.target.result);\n",
              "      };\n",
              "      reader.readAsArrayBuffer(file);\n",
              "    });\n",
              "    // Wait for the data to be ready.\n",
              "    let fileData = yield {\n",
              "      promise: fileDataPromise,\n",
              "      response: {\n",
              "        action: 'continue',\n",
              "      }\n",
              "    };\n",
              "\n",
              "    // Use a chunked sending to avoid message size limits. See b/62115660.\n",
              "    let position = 0;\n",
              "    do {\n",
              "      const length = Math.min(fileData.byteLength - position, MAX_PAYLOAD_SIZE);\n",
              "      const chunk = new Uint8Array(fileData, position, length);\n",
              "      position += length;\n",
              "\n",
              "      const base64 = btoa(String.fromCharCode.apply(null, chunk));\n",
              "      yield {\n",
              "        response: {\n",
              "          action: 'append',\n",
              "          file: file.name,\n",
              "          data: base64,\n",
              "        },\n",
              "      };\n",
              "\n",
              "      let percentDone = fileData.byteLength === 0 ?\n",
              "          100 :\n",
              "          Math.round((position / fileData.byteLength) * 100);\n",
              "      percent.textContent = `${percentDone}% done`;\n",
              "\n",
              "    } while (position < fileData.byteLength);\n",
              "  }\n",
              "\n",
              "  // All done.\n",
              "  yield {\n",
              "    response: {\n",
              "      action: 'complete',\n",
              "    }\n",
              "  };\n",
              "}\n",
              "\n",
              "scope.google = scope.google || {};\n",
              "scope.google.colab = scope.google.colab || {};\n",
              "scope.google.colab._files = {\n",
              "  _uploadFiles,\n",
              "  _uploadFilesContinue,\n",
              "};\n",
              "})(self);\n",
              "</script> "
            ],
            "text/plain": [
              "<IPython.core.display.HTML object>"
            ]
          },
          "metadata": {},
          "output_type": "display_data"
        },
        {
          "ename": "KeyboardInterrupt",
          "evalue": "ignored",
          "output_type": "error",
          "traceback": [
            "\u001b[0;31m---------------------------------------------------------------------------\u001b[0m",
            "\u001b[0;31mKeyboardInterrupt\u001b[0m                         Traceback (most recent call last)",
            "\u001b[0;32m<ipython-input-10-5c2e8a8d365b>\u001b[0m in \u001b[0;36m<module>\u001b[0;34m\u001b[0m\n\u001b[1;32m      1\u001b[0m \u001b[0;32mfrom\u001b[0m \u001b[0mgoogle\u001b[0m\u001b[0;34m.\u001b[0m\u001b[0mcolab\u001b[0m \u001b[0;32mimport\u001b[0m \u001b[0mfiles\u001b[0m\u001b[0;34m\u001b[0m\u001b[0;34m\u001b[0m\u001b[0m\n\u001b[0;32m----> 2\u001b[0;31m \u001b[0mfiles\u001b[0m\u001b[0;34m.\u001b[0m\u001b[0mupload\u001b[0m\u001b[0;34m(\u001b[0m\u001b[0;34m)\u001b[0m\u001b[0;34m\u001b[0m\u001b[0;34m\u001b[0m\u001b[0m\n\u001b[0m",
            "\u001b[0;32m/usr/local/lib/python3.9/dist-packages/google/colab/files.py\u001b[0m in \u001b[0;36mupload\u001b[0;34m()\u001b[0m\n\u001b[1;32m     67\u001b[0m   \"\"\"\n\u001b[1;32m     68\u001b[0m \u001b[0;34m\u001b[0m\u001b[0m\n\u001b[0;32m---> 69\u001b[0;31m   \u001b[0muploaded_files\u001b[0m \u001b[0;34m=\u001b[0m \u001b[0m_upload_files\u001b[0m\u001b[0;34m(\u001b[0m\u001b[0mmultiple\u001b[0m\u001b[0;34m=\u001b[0m\u001b[0;32mTrue\u001b[0m\u001b[0;34m)\u001b[0m\u001b[0;34m\u001b[0m\u001b[0;34m\u001b[0m\u001b[0m\n\u001b[0m\u001b[1;32m     70\u001b[0m   \u001b[0;31m# Mapping from original filename to filename as saved locally.\u001b[0m\u001b[0;34m\u001b[0m\u001b[0;34m\u001b[0m\u001b[0m\n\u001b[1;32m     71\u001b[0m   \u001b[0mlocal_filenames\u001b[0m \u001b[0;34m=\u001b[0m \u001b[0mdict\u001b[0m\u001b[0;34m(\u001b[0m\u001b[0;34m)\u001b[0m\u001b[0;34m\u001b[0m\u001b[0;34m\u001b[0m\u001b[0m\n",
            "\u001b[0;32m/usr/local/lib/python3.9/dist-packages/google/colab/files.py\u001b[0m in \u001b[0;36m_upload_files\u001b[0;34m(multiple)\u001b[0m\n\u001b[1;32m    151\u001b[0m \u001b[0;34m\u001b[0m\u001b[0m\n\u001b[1;32m    152\u001b[0m   \u001b[0;31m# First result is always an indication that the file picker has completed.\u001b[0m\u001b[0;34m\u001b[0m\u001b[0;34m\u001b[0m\u001b[0m\n\u001b[0;32m--> 153\u001b[0;31m   result = _output.eval_js(\n\u001b[0m\u001b[1;32m    154\u001b[0m       'google.colab._files._uploadFiles(\"{input_id}\", \"{output_id}\")'.format(\n\u001b[1;32m    155\u001b[0m           \u001b[0minput_id\u001b[0m\u001b[0;34m=\u001b[0m\u001b[0minput_id\u001b[0m\u001b[0;34m,\u001b[0m \u001b[0moutput_id\u001b[0m\u001b[0;34m=\u001b[0m\u001b[0moutput_id\u001b[0m\u001b[0;34m\u001b[0m\u001b[0;34m\u001b[0m\u001b[0m\n",
            "\u001b[0;32m/usr/local/lib/python3.9/dist-packages/google/colab/output/_js.py\u001b[0m in \u001b[0;36meval_js\u001b[0;34m(script, ignore_result, timeout_sec)\u001b[0m\n\u001b[1;32m     38\u001b[0m   \u001b[0;32mif\u001b[0m \u001b[0mignore_result\u001b[0m\u001b[0;34m:\u001b[0m\u001b[0;34m\u001b[0m\u001b[0;34m\u001b[0m\u001b[0m\n\u001b[1;32m     39\u001b[0m     \u001b[0;32mreturn\u001b[0m\u001b[0;34m\u001b[0m\u001b[0;34m\u001b[0m\u001b[0m\n\u001b[0;32m---> 40\u001b[0;31m   \u001b[0;32mreturn\u001b[0m \u001b[0m_message\u001b[0m\u001b[0;34m.\u001b[0m\u001b[0mread_reply_from_input\u001b[0m\u001b[0;34m(\u001b[0m\u001b[0mrequest_id\u001b[0m\u001b[0;34m,\u001b[0m \u001b[0mtimeout_sec\u001b[0m\u001b[0;34m)\u001b[0m\u001b[0;34m\u001b[0m\u001b[0;34m\u001b[0m\u001b[0m\n\u001b[0m\u001b[1;32m     41\u001b[0m \u001b[0;34m\u001b[0m\u001b[0m\n\u001b[1;32m     42\u001b[0m \u001b[0;34m\u001b[0m\u001b[0m\n",
            "\u001b[0;32m/usr/local/lib/python3.9/dist-packages/google/colab/_message.py\u001b[0m in \u001b[0;36mread_reply_from_input\u001b[0;34m(message_id, timeout_sec)\u001b[0m\n\u001b[1;32m     95\u001b[0m     \u001b[0mreply\u001b[0m \u001b[0;34m=\u001b[0m \u001b[0m_read_next_input_message\u001b[0m\u001b[0;34m(\u001b[0m\u001b[0;34m)\u001b[0m\u001b[0;34m\u001b[0m\u001b[0;34m\u001b[0m\u001b[0m\n\u001b[1;32m     96\u001b[0m     \u001b[0;32mif\u001b[0m \u001b[0mreply\u001b[0m \u001b[0;34m==\u001b[0m \u001b[0m_NOT_READY\u001b[0m \u001b[0;32mor\u001b[0m \u001b[0;32mnot\u001b[0m \u001b[0misinstance\u001b[0m\u001b[0;34m(\u001b[0m\u001b[0mreply\u001b[0m\u001b[0;34m,\u001b[0m \u001b[0mdict\u001b[0m\u001b[0;34m)\u001b[0m\u001b[0;34m:\u001b[0m\u001b[0;34m\u001b[0m\u001b[0;34m\u001b[0m\u001b[0m\n\u001b[0;32m---> 97\u001b[0;31m       \u001b[0mtime\u001b[0m\u001b[0;34m.\u001b[0m\u001b[0msleep\u001b[0m\u001b[0;34m(\u001b[0m\u001b[0;36m0.025\u001b[0m\u001b[0;34m)\u001b[0m\u001b[0;34m\u001b[0m\u001b[0;34m\u001b[0m\u001b[0m\n\u001b[0m\u001b[1;32m     98\u001b[0m       \u001b[0;32mcontinue\u001b[0m\u001b[0;34m\u001b[0m\u001b[0;34m\u001b[0m\u001b[0m\n\u001b[1;32m     99\u001b[0m     if (\n",
            "\u001b[0;31mKeyboardInterrupt\u001b[0m: "
          ]
        }
      ],
      "source": [
        "from google.colab import files\n",
        "files.upload()"
      ]
    },
    {
      "cell_type": "code",
      "execution_count": null,
      "metadata": {
        "colab": {
          "base_uri": "https://localhost:8080/"
        },
        "id": "MPS6YqeNVzKY",
        "outputId": "1ecc890c-18ed-45f7-9704-338833d0bb25"
      },
      "outputs": [
        {
          "name": "stdout",
          "output_type": "stream",
          "text": [
            "home/p88101029/nwhw1_data/hw1_data/Synthetic/5000/\n",
            "home/p88101029/nwhw1_data/hw1_data/Synthetic/5000/3_.net\n",
            "home/p88101029/nwhw1_data/hw1_data/Synthetic/5000/28_score.txt\n",
            "home/p88101029/nwhw1_data/hw1_data/Synthetic/5000/0_score.txt\n",
            "home/p88101029/nwhw1_data/hw1_data/Synthetic/5000/2_.net\n",
            "home/p88101029/nwhw1_data/hw1_data/Synthetic/5000/15_score.txt\n",
            "home/p88101029/nwhw1_data/hw1_data/Synthetic/5000/9_.txt\n",
            "home/p88101029/nwhw1_data/hw1_data/Synthetic/5000/9_score.txt\n",
            "home/p88101029/nwhw1_data/hw1_data/Synthetic/5000/7_.txt\n",
            "home/p88101029/nwhw1_data/hw1_data/Synthetic/5000/2_.txt\n",
            "home/p88101029/nwhw1_data/hw1_data/Synthetic/5000/27_.txt\n",
            "home/p88101029/nwhw1_data/hw1_data/Synthetic/5000/29_score.txt\n",
            "home/p88101029/nwhw1_data/hw1_data/Synthetic/5000/1_score.txt\n",
            "home/p88101029/nwhw1_data/hw1_data/Synthetic/5000/5_.txt\n",
            "home/p88101029/nwhw1_data/hw1_data/Synthetic/5000/27_score.txt\n",
            "home/p88101029/nwhw1_data/hw1_data/Synthetic/5000/13_score.txt\n",
            "home/p88101029/nwhw1_data/hw1_data/Synthetic/5000/16_.txt\n",
            "home/p88101029/nwhw1_data/hw1_data/Synthetic/5000/8_.net\n",
            "home/p88101029/nwhw1_data/hw1_data/Synthetic/5000/6_.net\n",
            "home/p88101029/nwhw1_data/hw1_data/Synthetic/5000/3_score.txt\n",
            "home/p88101029/nwhw1_data/hw1_data/Synthetic/5000/12_score.txt\n",
            "home/p88101029/nwhw1_data/hw1_data/Synthetic/5000/23_score.txt\n",
            "home/p88101029/nwhw1_data/hw1_data/Synthetic/5000/6_score.txt\n",
            "home/p88101029/nwhw1_data/hw1_data/Synthetic/5000/10_.net\n",
            "home/p88101029/nwhw1_data/hw1_data/Synthetic/5000/13_.txt\n",
            "home/p88101029/nwhw1_data/hw1_data/Synthetic/5000/16_score.txt\n",
            "home/p88101029/nwhw1_data/hw1_data/Synthetic/5000/17_score.txt\n",
            "home/p88101029/nwhw1_data/hw1_data/Synthetic/5000/0_.txt\n",
            "home/p88101029/nwhw1_data/hw1_data/Synthetic/5000/25_score.txt\n",
            "home/p88101029/nwhw1_data/hw1_data/Synthetic/5000/22_.net\n",
            "home/p88101029/nwhw1_data/hw1_data/Synthetic/5000/23_.net\n",
            "home/p88101029/nwhw1_data/hw1_data/Synthetic/5000/19_.net\n",
            "home/p88101029/nwhw1_data/hw1_data/Synthetic/5000/14_.net\n",
            "home/p88101029/nwhw1_data/hw1_data/Synthetic/5000/26_.txt\n",
            "home/p88101029/nwhw1_data/hw1_data/Synthetic/5000/2_score.txt\n",
            "home/p88101029/nwhw1_data/hw1_data/Synthetic/5000/19_score.txt\n",
            "home/p88101029/nwhw1_data/hw1_data/Synthetic/5000/4_.txt\n",
            "home/p88101029/nwhw1_data/hw1_data/Synthetic/5000/20_score.txt\n",
            "home/p88101029/nwhw1_data/hw1_data/Synthetic/5000/14_score.txt\n",
            "home/p88101029/nwhw1_data/hw1_data/Synthetic/5000/4_score.txt\n",
            "home/p88101029/nwhw1_data/hw1_data/Synthetic/5000/4_.net\n",
            "home/p88101029/nwhw1_data/hw1_data/Synthetic/5000/8_score.txt\n",
            "home/p88101029/nwhw1_data/hw1_data/Synthetic/5000/17_.txt\n",
            "home/p88101029/nwhw1_data/hw1_data/Synthetic/5000/12_.txt\n",
            "home/p88101029/nwhw1_data/hw1_data/Synthetic/5000/1_.txt\n",
            "home/p88101029/nwhw1_data/hw1_data/Synthetic/5000/21_.txt\n",
            "home/p88101029/nwhw1_data/hw1_data/Synthetic/5000/10_score.txt\n",
            "home/p88101029/nwhw1_data/hw1_data/Synthetic/5000/15_.txt\n",
            "home/p88101029/nwhw1_data/hw1_data/Synthetic/5000/15_.net\n",
            "home/p88101029/nwhw1_data/hw1_data/Synthetic/5000/21_score.txt\n",
            "home/p88101029/nwhw1_data/hw1_data/Synthetic/5000/11_score.txt\n",
            "home/p88101029/nwhw1_data/hw1_data/Synthetic/5000/26_.net\n",
            "home/p88101029/nwhw1_data/hw1_data/Synthetic/5000/.ipynb_checkpoints/\n",
            "home/p88101029/nwhw1_data/hw1_data/Synthetic/5000/24_score.txt\n",
            "home/p88101029/nwhw1_data/hw1_data/Synthetic/5000/23_.txt\n",
            "home/p88101029/nwhw1_data/hw1_data/Synthetic/5000/14_.txt\n",
            "home/p88101029/nwhw1_data/hw1_data/Synthetic/5000/18_.net\n",
            "home/p88101029/nwhw1_data/hw1_data/Synthetic/5000/16_.net\n",
            "home/p88101029/nwhw1_data/hw1_data/Synthetic/5000/20_.txt\n",
            "home/p88101029/nwhw1_data/hw1_data/Synthetic/5000/28_.net\n",
            "home/p88101029/nwhw1_data/hw1_data/Synthetic/5000/13_.net\n",
            "home/p88101029/nwhw1_data/hw1_data/Synthetic/5000/7_.net\n",
            "home/p88101029/nwhw1_data/hw1_data/Synthetic/5000/22_score.txt\n",
            "home/p88101029/nwhw1_data/hw1_data/Synthetic/5000/6_.txt\n",
            "home/p88101029/nwhw1_data/hw1_data/Synthetic/5000/20_.net\n",
            "home/p88101029/nwhw1_data/hw1_data/Synthetic/5000/28_.txt\n",
            "home/p88101029/nwhw1_data/hw1_data/Synthetic/5000/22_.txt\n",
            "home/p88101029/nwhw1_data/hw1_data/Synthetic/5000/10_.txt\n",
            "home/p88101029/nwhw1_data/hw1_data/Synthetic/5000/5_score.txt\n",
            "home/p88101029/nwhw1_data/hw1_data/Synthetic/5000/1_.net\n",
            "home/p88101029/nwhw1_data/hw1_data/Synthetic/5000/29_.net\n",
            "home/p88101029/nwhw1_data/hw1_data/Synthetic/5000/18_score.txt\n",
            "home/p88101029/nwhw1_data/hw1_data/Synthetic/5000/8_.txt\n",
            "home/p88101029/nwhw1_data/hw1_data/Synthetic/5000/26_score.txt\n",
            "home/p88101029/nwhw1_data/hw1_data/Synthetic/5000/18_.txt\n",
            "home/p88101029/nwhw1_data/hw1_data/Synthetic/5000/25_.net\n",
            "home/p88101029/nwhw1_data/hw1_data/Synthetic/5000/9_.net\n",
            "home/p88101029/nwhw1_data/hw1_data/Synthetic/5000/21_.net\n",
            "home/p88101029/nwhw1_data/hw1_data/Synthetic/5000/5_.net\n",
            "home/p88101029/nwhw1_data/hw1_data/Synthetic/5000/25_.txt\n",
            "home/p88101029/nwhw1_data/hw1_data/Synthetic/5000/24_.net\n",
            "home/p88101029/nwhw1_data/hw1_data/Synthetic/5000/29_.txt\n",
            "home/p88101029/nwhw1_data/hw1_data/Synthetic/5000/12_.net\n",
            "home/p88101029/nwhw1_data/hw1_data/Synthetic/5000/24_.txt\n",
            "home/p88101029/nwhw1_data/hw1_data/Synthetic/5000/11_.txt\n",
            "home/p88101029/nwhw1_data/hw1_data/Synthetic/5000/7_score.txt\n",
            "home/p88101029/nwhw1_data/hw1_data/Synthetic/5000/17_.net\n",
            "home/p88101029/nwhw1_data/hw1_data/Synthetic/5000/27_.net\n",
            "home/p88101029/nwhw1_data/hw1_data/Synthetic/5000/0_.net\n",
            "home/p88101029/nwhw1_data/hw1_data/Synthetic/5000/19_.txt\n",
            "home/p88101029/nwhw1_data/hw1_data/Synthetic/5000/3_.txt\n",
            "home/p88101029/nwhw1_data/hw1_data/Synthetic/5000/11_.net\n"
          ]
        }
      ],
      "source": [
        "!tar -xzvf archive.tar.gz "
      ]
    },
    {
      "cell_type": "code",
      "execution_count": null,
      "metadata": {
        "colab": {
          "base_uri": "https://localhost:8080/"
        },
        "id": "RWJ9k0LZWUq2",
        "outputId": "dc1706c8-1205-4285-afde-087ee0c8a7c2"
      },
      "outputs": [
        {
          "name": "stdout",
          "output_type": "stream",
          "text": [
            "Mounted at /content/drive\n"
          ]
        }
      ],
      "source": [
        "from google.colab import drive\n",
        "drive.mount('/content/drive')"
      ]
    },
    {
      "cell_type": "code",
      "execution_count": null,
      "metadata": {
        "colab": {
          "base_uri": "https://localhost:8080/"
        },
        "id": "DwfJoWLcWuCo",
        "outputId": "c2368b43-9fc1-4593-a9a6-6c5fbf98110d"
      },
      "outputs": [
        {
          "name": "stdout",
          "output_type": "stream",
          "text": [
            "cp: cannot stat '/content/BeBeCA/Evaluation_Methodology/Graphs/home/p88101029/nwhw1_data/hw1_data/Synthetic/5000': No such file or directory\n"
          ]
        }
      ],
      "source": [
        "#!cp -r /content/BeBeCA/Evaluation_Methodology/Graphs/home/p88101029/nwhw1_data/hw1_data/Synthetic/5000 /content/drive/MyDrive/"
      ]
    },
    {
      "cell_type": "code",
      "execution_count": null,
      "metadata": {
        "colab": {
          "base_uri": "https://localhost:8080/"
        },
        "id": "pQABzEkFZfjU",
        "outputId": "c3432c6e-4e0f-4cff-8d67-7a7a4cc11aeb"
      },
      "outputs": [
        {
          "name": "stdout",
          "output_type": "stream",
          "text": [
            "===================================================================================\n",
            "Computation is Running for RAND1 and sample size = 200\n",
            "\n",
            "Master: Start sampling vertices\n",
            "Master: Start estimating betweenness from samppled vertices\n",
            "@STAT\tAlg#\tRAND1\tGRAPH#\t0_.net\tTIME#\t1.632096\tSAMPLES#\t200\n",
            "\n",
            "Results computed and printed in (/content/drive/MyDrive/5000/0_RAND1.txt)\n"
          ]
        }
      ],
      "source": [
        "! ./RAND1 200 /content/drive/MyDrive/5000/0_.net /content/drive/MyDrive/5000/0_RAND1.txt"
      ]
    },
    {
      "cell_type": "code",
      "execution_count": null,
      "metadata": {
        "id": "JbxRJyTzh-wX"
      },
      "outputs": [],
      "source": [
        "import torch\n",
        "import numpy as np\n",
        "import time"
      ]
    },
    {
      "cell_type": "code",
      "execution_count": null,
      "metadata": {
        "id": "miAVCAkgiDEY"
      },
      "outputs": [],
      "source": [
        "def topk_accuracy(k, pred, actu):\n",
        "    pt=pred.topk(k, dim=0).indices.squeeze().cpu().numpy()\n",
        "    at=actu.topk(k, dim=0).indices.squeeze().cpu().numpy()\n",
        "    intersection = np.intersect1d(pt, at)\n",
        "    count = len(intersection)\n",
        "    return count\n",
        "def return_rank(x):\n",
        "    x=x.cpu().numpy()\n",
        "    sorted_indices = np.argsort(x.squeeze())\n",
        "    ranks = np.zeros_like(sorted_indices)\n",
        "    ranks[sorted_indices] = np.arange(1, len(x) + 1)\n",
        "    return(ranks)\n",
        "def kendall_tau(x, y):\n",
        "    x=return_rank(x)\n",
        "    y=return_rank(y)\n",
        "    n_samples = len(x)\n",
        "    concordant_pairs = 0\n",
        "    discordant_pairs = 0\n",
        "    for i in range(n_samples):\n",
        "        for j in range(i + 1, n_samples):\n",
        "            if (x[i] < x[j] and y[i] > y[j]) or (x[i] > x[j] and y[i] < y[j]):\n",
        "                discordant_pairs += 1\n",
        "            else:\n",
        "                concordant_pairs += 1\n",
        "    tau = 2*(concordant_pairs - discordant_pairs) / (n_samples*(n_samples-1))\n",
        "    return tau\n",
        "def performance(out, bc):\n",
        "    n=bc.shape[0]\n",
        "    onep=round(n*0.01)\n",
        "    fivep=round(n*0.05)\n",
        "    tenp=round(n*0.1)\n",
        "    oneacc=topk_accuracy(onep,out,bc)/onep*100\n",
        "    fiveacc=topk_accuracy(fivep,out,bc)/fivep*100\n",
        "    tenacc=topk_accuracy(tenp,out,bc)/tenp*100\n",
        "    kt=kendall_tau(out,bc)\n",
        "    return(oneacc,fiveacc,tenacc,kt)"
      ]
    },
    {
      "cell_type": "code",
      "execution_count": null,
      "metadata": {
        "id": "fo99yt0Anxu0"
      },
      "outputs": [],
      "source": [
        "listoffolder=os.listdir(\"/content/drive/MyDrive/5000/\")"
      ]
    },
    {
      "cell_type": "code",
      "execution_count": null,
      "metadata": {
        "id": "_ylstDD0n7hs"
      },
      "outputs": [],
      "source": [
        "score_list = []\n",
        "node_list = []\n",
        "ori_list = []\n",
        "for element in listoffolder:\n",
        "    if 'score' in element:\n",
        "        score_list.append(element)\n",
        "    if '_.net' in element:\n",
        "        node_list.append(element)\n",
        "    if '_.txt' in element:\n",
        "        ori_list.append(element)\n",
        "node_list=sorted(node_list)\n",
        "score_list=sorted(score_list)\n",
        "ori_list=sorted(ori_list)\n"
      ]
    },
    {
      "cell_type": "code",
      "execution_count": null,
      "metadata": {
        "colab": {
          "base_uri": "https://localhost:8080/"
        },
        "id": "OP039JELgTsR",
        "outputId": "7394d13b-796f-45f6-9b0f-583884a39133"
      },
      "outputs": [
        {
          "data": {
            "text/plain": [
              "(['0_.net',\n",
              "  '10_.net',\n",
              "  '11_.net',\n",
              "  '12_.net',\n",
              "  '13_.net',\n",
              "  '14_.net',\n",
              "  '15_.net',\n",
              "  '16_.net',\n",
              "  '17_.net',\n",
              "  '18_.net',\n",
              "  '19_.net',\n",
              "  '1_.net',\n",
              "  '20_.net',\n",
              "  '21_.net',\n",
              "  '22_.net',\n",
              "  '23_.net',\n",
              "  '24_.net',\n",
              "  '25_.net',\n",
              "  '26_.net',\n",
              "  '27_.net',\n",
              "  '28_.net',\n",
              "  '29_.net',\n",
              "  '2_.net',\n",
              "  '3_.net',\n",
              "  '4_.net',\n",
              "  '5_.net',\n",
              "  '6_.net',\n",
              "  '7_.net',\n",
              "  '8_.net',\n",
              "  '9_.net'],\n",
              " ['0_score.txt',\n",
              "  '10_score.txt',\n",
              "  '11_score.txt',\n",
              "  '12_score.txt',\n",
              "  '13_score.txt',\n",
              "  '14_score.txt',\n",
              "  '15_score.txt',\n",
              "  '16_score.txt',\n",
              "  '17_score.txt',\n",
              "  '18_score.txt',\n",
              "  '19_score.txt',\n",
              "  '1_score.txt',\n",
              "  '20_score.txt',\n",
              "  '21_score.txt',\n",
              "  '22_score.txt',\n",
              "  '23_score.txt',\n",
              "  '24_score.txt',\n",
              "  '25_score.txt',\n",
              "  '26_score.txt',\n",
              "  '27_score.txt',\n",
              "  '28_score.txt',\n",
              "  '29_score.txt',\n",
              "  '2_score.txt',\n",
              "  '3_score.txt',\n",
              "  '4_score.txt',\n",
              "  '5_score.txt',\n",
              "  '6_score.txt',\n",
              "  '7_score.txt',\n",
              "  '8_score.txt',\n",
              "  '9_score.txt'])"
            ]
          },
          "execution_count": 27,
          "metadata": {},
          "output_type": "execute_result"
        }
      ],
      "source": [
        "node_list,score_list"
      ]
    },
    {
      "cell_type": "code",
      "execution_count": null,
      "metadata": {
        "colab": {
          "base_uri": "https://localhost:8080/"
        },
        "id": "sh2v55SmpkOj",
        "outputId": "c1c4e0c2-e862-44b2-990b-4b74e6309319"
      },
      "outputs": [
        {
          "name": "stdout",
          "output_type": "stream",
          "text": [
            "===================================================================================\n",
            "Computation is Running for k-centralities with k = 4 \n",
            "\n",
            "Master: Start traversing\n",
            "@STAT\tAlg#\tKPATH\tGRAPH#\t0_.net\tTIME#\t33.205668\tSAMPLES#\t5000\n",
            "\n",
            "Results computed and printed in (/content/drive/MyDrive/5000/0_KPATH.txt)\n",
            "===================================================================================\n",
            "Computation is Running for k-centralities with k = 4 \n",
            "\n",
            "Master: Start traversing\n",
            "@STAT\tAlg#\tKPATH\tGRAPH#\t10_.net\tTIME#\t31.991355\tSAMPLES#\t5000\n",
            "\n",
            "Results computed and printed in (/content/drive/MyDrive/5000/10_KPATH.txt)\n",
            "===================================================================================\n",
            "Computation is Running for k-centralities with k = 4 \n",
            "\n",
            "Master: Start traversing\n",
            "@STAT\tAlg#\tKPATH\tGRAPH#\t11_.net\tTIME#\t34.115904\tSAMPLES#\t5000\n",
            "\n",
            "Results computed and printed in (/content/drive/MyDrive/5000/11_KPATH.txt)\n",
            "===================================================================================\n",
            "Computation is Running for k-centralities with k = 4 \n",
            "\n",
            "Master: Start traversing\n",
            "@STAT\tAlg#\tKPATH\tGRAPH#\t12_.net\tTIME#\t33.411017\tSAMPLES#\t5000\n",
            "\n",
            "Results computed and printed in (/content/drive/MyDrive/5000/12_KPATH.txt)\n",
            "===================================================================================\n",
            "Computation is Running for k-centralities with k = 4 \n",
            "\n",
            "Master: Start traversing\n",
            "@STAT\tAlg#\tKPATH\tGRAPH#\t13_.net\tTIME#\t36.967719\tSAMPLES#\t5000\n",
            "\n",
            "Results computed and printed in (/content/drive/MyDrive/5000/13_KPATH.txt)\n",
            "===================================================================================\n",
            "Computation is Running for k-centralities with k = 4 \n",
            "\n",
            "Master: Start traversing\n",
            "@STAT\tAlg#\tKPATH\tGRAPH#\t14_.net\tTIME#\t33.599948\tSAMPLES#\t5000\n",
            "\n",
            "Results computed and printed in (/content/drive/MyDrive/5000/14_KPATH.txt)\n",
            "===================================================================================\n",
            "Computation is Running for k-centralities with k = 4 \n",
            "\n",
            "Master: Start traversing\n",
            "@STAT\tAlg#\tKPATH\tGRAPH#\t15_.net\tTIME#\t34.421935\tSAMPLES#\t5000\n",
            "\n",
            "Results computed and printed in (/content/drive/MyDrive/5000/15_KPATH.txt)\n",
            "===================================================================================\n",
            "Computation is Running for k-centralities with k = 4 \n",
            "\n",
            "Master: Start traversing\n",
            "@STAT\tAlg#\tKPATH\tGRAPH#\t16_.net\tTIME#\t35.052612\tSAMPLES#\t5000\n",
            "\n",
            "Results computed and printed in (/content/drive/MyDrive/5000/16_KPATH.txt)\n",
            "===================================================================================\n",
            "Computation is Running for k-centralities with k = 4 \n",
            "\n",
            "Master: Start traversing\n",
            "@STAT\tAlg#\tKPATH\tGRAPH#\t17_.net\tTIME#\t34.459024\tSAMPLES#\t5000\n",
            "\n",
            "Results computed and printed in (/content/drive/MyDrive/5000/17_KPATH.txt)\n",
            "===================================================================================\n",
            "Computation is Running for k-centralities with k = 4 \n",
            "\n",
            "Master: Start traversing\n",
            "@STAT\tAlg#\tKPATH\tGRAPH#\t18_.net\tTIME#\t33.268068\tSAMPLES#\t5000\n",
            "\n",
            "Results computed and printed in (/content/drive/MyDrive/5000/18_KPATH.txt)\n",
            "===================================================================================\n",
            "Computation is Running for k-centralities with k = 4 \n",
            "\n",
            "Master: Start traversing\n",
            "@STAT\tAlg#\tKPATH\tGRAPH#\t19_.net\tTIME#\t33.532768\tSAMPLES#\t5000\n",
            "\n",
            "Results computed and printed in (/content/drive/MyDrive/5000/19_KPATH.txt)\n",
            "===================================================================================\n",
            "Computation is Running for k-centralities with k = 4 \n",
            "\n",
            "Master: Start traversing\n",
            "@STAT\tAlg#\tKPATH\tGRAPH#\t1_.net\tTIME#\t33.375809\tSAMPLES#\t5000\n",
            "\n",
            "Results computed and printed in (/content/drive/MyDrive/5000/1_KPATH.txt)\n",
            "===================================================================================\n",
            "Computation is Running for k-centralities with k = 4 \n",
            "\n",
            "Master: Start traversing\n",
            "@STAT\tAlg#\tKPATH\tGRAPH#\t20_.net\tTIME#\t33.708877\tSAMPLES#\t5000\n",
            "\n",
            "Results computed and printed in (/content/drive/MyDrive/5000/20_KPATH.txt)\n",
            "===================================================================================\n",
            "Computation is Running for k-centralities with k = 4 \n",
            "\n",
            "Master: Start traversing\n",
            "@STAT\tAlg#\tKPATH\tGRAPH#\t21_.net\tTIME#\t33.216960\tSAMPLES#\t5000\n",
            "\n",
            "Results computed and printed in (/content/drive/MyDrive/5000/21_KPATH.txt)\n",
            "===================================================================================\n",
            "Computation is Running for k-centralities with k = 4 \n",
            "\n",
            "Master: Start traversing\n",
            "@STAT\tAlg#\tKPATH\tGRAPH#\t22_.net\tTIME#\t32.764009\tSAMPLES#\t5000\n",
            "\n",
            "Results computed and printed in (/content/drive/MyDrive/5000/22_KPATH.txt)\n",
            "===================================================================================\n",
            "Computation is Running for k-centralities with k = 4 \n",
            "\n",
            "Master: Start traversing\n",
            "@STAT\tAlg#\tKPATH\tGRAPH#\t23_.net\tTIME#\t32.178617\tSAMPLES#\t5000\n",
            "\n",
            "Results computed and printed in (/content/drive/MyDrive/5000/23_KPATH.txt)\n",
            "===================================================================================\n",
            "Computation is Running for k-centralities with k = 4 \n",
            "\n",
            "Master: Start traversing\n",
            "@STAT\tAlg#\tKPATH\tGRAPH#\t24_.net\tTIME#\t32.052686\tSAMPLES#\t5000\n",
            "\n",
            "Results computed and printed in (/content/drive/MyDrive/5000/24_KPATH.txt)\n",
            "===================================================================================\n",
            "Computation is Running for k-centralities with k = 4 \n",
            "\n",
            "Master: Start traversing\n",
            "@STAT\tAlg#\tKPATH\tGRAPH#\t25_.net\tTIME#\t32.137652\tSAMPLES#\t5000\n",
            "\n",
            "Results computed and printed in (/content/drive/MyDrive/5000/25_KPATH.txt)\n",
            "===================================================================================\n",
            "Computation is Running for k-centralities with k = 4 \n",
            "\n",
            "Master: Start traversing\n",
            "@STAT\tAlg#\tKPATH\tGRAPH#\t26_.net\tTIME#\t31.873303\tSAMPLES#\t5000\n",
            "\n",
            "Results computed and printed in (/content/drive/MyDrive/5000/26_KPATH.txt)\n",
            "===================================================================================\n",
            "Computation is Running for k-centralities with k = 4 \n",
            "\n",
            "Master: Start traversing\n",
            "@STAT\tAlg#\tKPATH\tGRAPH#\t27_.net\tTIME#\t32.147350\tSAMPLES#\t5000\n",
            "\n",
            "Results computed and printed in (/content/drive/MyDrive/5000/27_KPATH.txt)\n",
            "===================================================================================\n",
            "Computation is Running for k-centralities with k = 4 \n",
            "\n",
            "Master: Start traversing\n",
            "@STAT\tAlg#\tKPATH\tGRAPH#\t28_.net\tTIME#\t32.490206\tSAMPLES#\t5000\n",
            "\n",
            "Results computed and printed in (/content/drive/MyDrive/5000/28_KPATH.txt)\n",
            "===================================================================================\n",
            "Computation is Running for k-centralities with k = 4 \n",
            "\n",
            "Master: Start traversing\n",
            "@STAT\tAlg#\tKPATH\tGRAPH#\t29_.net\tTIME#\t32.119261\tSAMPLES#\t5000\n",
            "\n",
            "Results computed and printed in (/content/drive/MyDrive/5000/29_KPATH.txt)\n",
            "===================================================================================\n",
            "Computation is Running for k-centralities with k = 4 \n",
            "\n",
            "Master: Start traversing\n",
            "@STAT\tAlg#\tKPATH\tGRAPH#\t2_.net\tTIME#\t32.100993\tSAMPLES#\t5000\n",
            "\n",
            "Results computed and printed in (/content/drive/MyDrive/5000/2_KPATH.txt)\n",
            "===================================================================================\n",
            "Computation is Running for k-centralities with k = 4 \n",
            "\n",
            "Master: Start traversing\n",
            "@STAT\tAlg#\tKPATH\tGRAPH#\t3_.net\tTIME#\t32.259288\tSAMPLES#\t5000\n",
            "\n",
            "Results computed and printed in (/content/drive/MyDrive/5000/3_KPATH.txt)\n",
            "===================================================================================\n",
            "Computation is Running for k-centralities with k = 4 \n",
            "\n",
            "Master: Start traversing\n",
            "@STAT\tAlg#\tKPATH\tGRAPH#\t4_.net\tTIME#\t32.380130\tSAMPLES#\t5000\n",
            "\n",
            "Results computed and printed in (/content/drive/MyDrive/5000/4_KPATH.txt)\n",
            "===================================================================================\n",
            "Computation is Running for k-centralities with k = 4 \n",
            "\n",
            "Master: Start traversing\n",
            "@STAT\tAlg#\tKPATH\tGRAPH#\t5_.net\tTIME#\t32.295618\tSAMPLES#\t5000\n",
            "\n",
            "Results computed and printed in (/content/drive/MyDrive/5000/5_KPATH.txt)\n",
            "===================================================================================\n",
            "Computation is Running for k-centralities with k = 4 \n",
            "\n",
            "Master: Start traversing\n",
            "@STAT\tAlg#\tKPATH\tGRAPH#\t6_.net\tTIME#\t32.110625\tSAMPLES#\t5000\n",
            "\n",
            "Results computed and printed in (/content/drive/MyDrive/5000/6_KPATH.txt)\n",
            "===================================================================================\n",
            "Computation is Running for k-centralities with k = 4 \n",
            "\n",
            "Master: Start traversing\n",
            "@STAT\tAlg#\tKPATH\tGRAPH#\t7_.net\tTIME#\t32.648622\tSAMPLES#\t5000\n",
            "\n",
            "Results computed and printed in (/content/drive/MyDrive/5000/7_KPATH.txt)\n",
            "===================================================================================\n",
            "Computation is Running for k-centralities with k = 4 \n",
            "\n",
            "Master: Start traversing\n",
            "@STAT\tAlg#\tKPATH\tGRAPH#\t8_.net\tTIME#\t32.662415\tSAMPLES#\t5000\n",
            "\n",
            "Results computed and printed in (/content/drive/MyDrive/5000/8_KPATH.txt)\n",
            "===================================================================================\n",
            "Computation is Running for k-centralities with k = 4 \n",
            "\n",
            "Master: Start traversing\n",
            "@STAT\tAlg#\tKPATH\tGRAPH#\t9_.net\tTIME#\t32.402872\tSAMPLES#\t5000\n",
            "\n",
            "Results computed and printed in (/content/drive/MyDrive/5000/9_KPATH.txt)\n"
          ]
        }
      ],
      "source": [
        "perfreco=[]\n",
        "for (node_file,score_file) in zip(node_list,score_list):\n",
        "  txtname=node_file.replace(\".net\",\"KPATH.txt\")\n",
        "  start_time = time.time()\n",
        "  ! ./KPATH 4 /content/drive/MyDrive/5000/$node_file /content/drive/MyDrive/5000/$txtname\n",
        "  elapsed_time = time.time() - start_time\n",
        "  score=[]        \n",
        "  with open('/content/drive/MyDrive/5000/'+txtname, 'r') as f:\n",
        "      for line in f.readlines():\n",
        "          score.append([int(line.split()[0].replace(\":\",\"\")),float(line.split()[1])])\n",
        "  pred = torch.tensor([pred[1] for pred in score], dtype=torch.float)\n",
        "  score=[]        \n",
        "  with open('/content/drive/MyDrive/5000/'+score_file, 'r') as f:\n",
        "      for line in f.readlines():\n",
        "          score.append([int(line.split()[0]),float(line.split()[1])])\n",
        "  actu = torch.tensor([actu[1] for actu in score], dtype=torch.float)\n",
        "  data = performance(pred,actu), np.array(elapsed_time).reshape(1,)\n",
        "  perfreco.append(np.concatenate(data))\n",
        "\n",
        "  "
      ]
    },
    {
      "cell_type": "code",
      "execution_count": null,
      "metadata": {
        "colab": {
          "base_uri": "https://localhost:8080/"
        },
        "id": "BQqcVaofwHwo",
        "outputId": "f0fb2e15-f4a3-40ac-a424-cadac1c65e94"
      },
      "outputs": [
        {
          "name": "stdout",
          "output_type": "stream",
          "text": [
            "30\n",
            "[99.53333333 98.89333333 98.64666667  0.97188345 33.20594831]\n",
            "[8.45905169e-01 4.46417841e-01 2.66749987e-01 1.13300038e-03\n",
            " 1.14052384e+00]\n"
          ]
        }
      ],
      "source": [
        "print(len(perfreco))\n",
        "print(np.mean(np.array(perfreco), axis=0))\n",
        "print(np.std(np.array(perfreco), axis=0))"
      ]
    },
    {
      "cell_type": "code",
      "execution_count": null,
      "metadata": {
        "id": "xYhaHBpBikS4"
      },
      "outputs": [],
      "source": [
        "with open('/content/drive/MyDrive/youtube/com-youtube.txt', 'r') as f:\n",
        "    pairedge=[]\n",
        "    for line in f.readlines():\n",
        "        pairedge.append(list(map(int,line.split())))\n",
        "    num_rows = len(pairedge)\n",
        "    header = '1134890 '+str(num_rows)+'\\n'\n",
        "with open('/content/drive/MyDrive/youtube/com-youtube.net', 'w') as f:\n",
        "    f.writelines(header)\n",
        "    for (x,y) in pairedge:\n",
        "        f.write('{} {}\\n'.format(x, y))"
      ]
    },
    {
      "cell_type": "code",
      "execution_count": null,
      "metadata": {
        "colab": {
          "background_save": true,
          "base_uri": "https://localhost:8080/"
        },
        "id": "qkGx6VAqij6J",
        "outputId": "a63b0847-bca9-436d-adb8-efcaeb736493"
      },
      "outputs": [
        {
          "name": "stdout",
          "output_type": "stream",
          "text": [
            "===================================================================================\n",
            "Computation is Running for k-centralities with k = 4 \n",
            "\n"
          ]
        }
      ],
      "source": [
        "start_time = time.time()\n",
        "! ./KPATH 4 /content/drive/MyDrive/youtube/com-youtube.net /content/drive/MyDrive/youtube/com-youtube_KPATH.txt\n",
        "elapsed_time = time.time() - start_time\n"
      ]
    },
    {
      "cell_type": "code",
      "execution_count": null,
      "metadata": {
        "id": "LsLMLZp1nqte"
      },
      "outputs": [],
      "source": [
        "score=[]        \n",
        "with open('/content/drive/MyDrive/youtube/com-youtube_KPATH.txt', 'r') as f:\n",
        "    for line in f.readlines():\n",
        "        score.append([int(line.split()[0].replace(\":\",\"\")),float(line.split()[1])])\n",
        "pred = torch.tensor([pred[1] for pred in score], dtype=torch.float)\n",
        "score=[]        \n",
        "with open('/content/drive/MyDrive/youtube/com-youtube_score.txt', 'r') as f:\n",
        "    for line in f.readlines():\n",
        "        score.append([int(line.split()[0].replace(\":\",\"\")),float(line.split()[1])])\n",
        "actu = torch.tensor([actu[1] for actu in score], dtype=torch.float)\n",
        "data = performance(pred,actu), np.array(elapsed_time).reshape(1,)\n",
        "print(data)"
      ]
    },
    {
      "cell_type": "code",
      "execution_count": null,
      "metadata": {
        "colab": {
          "base_uri": "https://localhost:8080/"
        },
        "id": "XLVw5JxRvQpm",
        "outputId": "2a8a06d6-844f-4504-80a3-0336033633b0"
      },
      "outputs": [
        {
          "name": "stderr",
          "output_type": "stream",
          "text": [
            "/usr/local/lib/python3.9/dist-packages/scipy/stats/_stats_py.py:5278: RuntimeWarning: overflow encountered in long_scalars\n",
            "  (2 * xtie * ytie) / m + x0 * y0 / (9 * m * (size - 2)))\n"
          ]
        },
        {
          "data": {
            "text/plain": [
              "SignificanceResult(statistic=0.9514885841998868, pvalue=0.0)"
            ]
          },
          "execution_count": 132,
          "metadata": {},
          "output_type": "execute_result"
        }
      ],
      "source": [
        "from scipy import stats\n",
        "stats.kendalltau(actu, pred)"
      ]
    },
    {
      "cell_type": "markdown",
      "metadata": {
        "id": "pBvfwRCWXu6j"
      },
      "source": [
        "# 新增區段"
      ]
    },
    {
      "cell_type": "code",
      "execution_count": null,
      "metadata": {
        "colab": {
          "base_uri": "https://localhost:8080/"
        },
        "id": "QwlBUXZ3BtDq",
        "outputId": "180c5fba-208c-4e9b-cb24-40620e418cd7"
      },
      "outputs": [
        {
          "name": "stdout",
          "output_type": "stream",
          "text": [
            "/content\n"
          ]
        }
      ],
      "source": [
        "%cd /content"
      ]
    },
    {
      "cell_type": "code",
      "execution_count": null,
      "metadata": {
        "colab": {
          "base_uri": "https://localhost:8080/"
        },
        "id": "qoL2ZYbEz3Od",
        "outputId": "8237f8cd-4ce1-4cfa-a9dd-317b0d60ba64"
      },
      "outputs": [
        {
          "name": "stdout",
          "output_type": "stream",
          "text": [
            "Cloning into 'kadabra'...\n",
            "remote: Enumerating objects: 49, done.\u001b[K\n",
            "remote: Total 49 (delta 0), reused 0 (delta 0), pack-reused 49\u001b[K\n",
            "Unpacking objects: 100% (49/49), 297.17 KiB | 6.06 MiB/s, done.\n"
          ]
        }
      ],
      "source": [
        "!git clone https://github.com/natema/kadabra.git"
      ]
    },
    {
      "cell_type": "code",
      "execution_count": null,
      "metadata": {
        "colab": {
          "base_uri": "https://localhost:8080/"
        },
        "id": "GtjGvaD80ZCL",
        "outputId": "3b96a51c-8a63-4f05-98d3-0baafe238cd5"
      },
      "outputs": [
        {
          "name": "stdout",
          "output_type": "stream",
          "text": [
            "/content/kadabra\n"
          ]
        }
      ],
      "source": [
        "%cd /content/kadabra/"
      ]
    },
    {
      "cell_type": "code",
      "execution_count": null,
      "metadata": {
        "colab": {
          "base_uri": "https://localhost:8080/"
        },
        "id": "PMlBKMARhlb9",
        "outputId": "571473af-afac-4733-def6-97065927970f"
      },
      "outputs": [
        {
          "name": "stdout",
          "output_type": "stream",
          "text": [
            "Reading package lists... Done\n",
            "Building dependency tree       \n",
            "Reading state information... Done\n",
            "The following additional packages will be installed:\n",
            "  libomp-10-dev libomp5-10\n",
            "Suggested packages:\n",
            "  libomp-10-doc\n",
            "The following NEW packages will be installed:\n",
            "  libomp-10-dev libomp-dev libomp5-10\n",
            "0 upgraded, 3 newly installed, 0 to remove and 23 not upgraded.\n",
            "Need to get 351 kB of archives.\n",
            "After this operation, 2,281 kB of additional disk space will be used.\n",
            "Get:1 http://archive.ubuntu.com/ubuntu focal/universe amd64 libomp5-10 amd64 1:10.0.0-4ubuntu1 [300 kB]\n",
            "Get:2 http://archive.ubuntu.com/ubuntu focal/universe amd64 libomp-10-dev amd64 1:10.0.0-4ubuntu1 [47.7 kB]\n",
            "Get:3 http://archive.ubuntu.com/ubuntu focal/universe amd64 libomp-dev amd64 1:10.0-50~exp1 [2,824 B]\n",
            "Fetched 351 kB in 0s (3,281 kB/s)\n",
            "Selecting previously unselected package libomp5-10:amd64.\n",
            "(Reading database ... 128276 files and directories currently installed.)\n",
            "Preparing to unpack .../libomp5-10_1%3a10.0.0-4ubuntu1_amd64.deb ...\n",
            "Unpacking libomp5-10:amd64 (1:10.0.0-4ubuntu1) ...\n",
            "Selecting previously unselected package libomp-10-dev.\n",
            "Preparing to unpack .../libomp-10-dev_1%3a10.0.0-4ubuntu1_amd64.deb ...\n",
            "Unpacking libomp-10-dev (1:10.0.0-4ubuntu1) ...\n",
            "Selecting previously unselected package libomp-dev.\n",
            "Preparing to unpack .../libomp-dev_1%3a10.0-50~exp1_amd64.deb ...\n",
            "Unpacking libomp-dev (1:10.0-50~exp1) ...\n",
            "Setting up libomp5-10:amd64 (1:10.0.0-4ubuntu1) ...\n",
            "Setting up libomp-10-dev (1:10.0.0-4ubuntu1) ...\n",
            "Setting up libomp-dev (1:10.0-50~exp1) ...\n",
            "Processing triggers for libc-bin (2.31-0ubuntu9.9) ...\n",
            "Reading package lists... Done\n",
            "Building dependency tree       \n",
            "Reading state information... Done\n",
            "g++ is already the newest version (4:9.3.0-1ubuntu2).\n",
            "g++ set to manually installed.\n",
            "0 upgraded, 0 newly installed, 0 to remove and 23 not upgraded.\n"
          ]
        }
      ],
      "source": [
        "!apt-get install libomp-dev\n",
        "!apt-get install g++"
      ]
    },
    {
      "cell_type": "code",
      "execution_count": null,
      "metadata": {
        "colab": {
          "base_uri": "https://localhost:8080/"
        },
        "id": "cnD_8PF1h-1s",
        "outputId": "b8eb8dec-932b-4097-a8b1-63803db54539"
      },
      "outputs": [
        {
          "name": "stdout",
          "output_type": "stream",
          "text": [
            "g++ -fopenmp -std=c++11 -Ofast -Wall -g -Iinclude main.cpp src/* -lm -o kadabra\n"
          ]
        }
      ],
      "source": [
        "! make"
      ]
    },
    {
      "cell_type": "code",
      "execution_count": null,
      "metadata": {
        "colab": {
          "base_uri": "https://localhost:8080/"
        },
        "id": "jj6SbR3c2GDy",
        "outputId": "c0e0134f-d97a-4005-fd75-701264a8467d"
      },
      "outputs": [
        {
          "name": "stdout",
          "output_type": "stream",
          "text": [
            "Undirected graph\n",
            "Number of nodes: 4039\n",
            "Number of edges: 176468\n",
            "\n",
            "Situation after 1434402 iterations.\n",
            "Edges visited: 9142661190\n",
            "Average edges visited: 6373\n",
            "Total time: 60.0005\n",
            "Time bfs: 54.9273\n",
            "Time critical: 1.7349\n",
            "Time compute finished: 2.10713\n",
            "(Printing thread: 0)\n",
            "       1)      107 0.475532 0.480561 0.485643\n",
            "       2)     1684 0.33301 0.337219 0.341481\n",
            "       3)     3437 0.235953 0.239497 0.243094\n",
            "       4)     1912 0.22572 0.229186 0.232705\n",
            "       5)     1085 0.148053 0.149404 0.150768\n",
            "       6)        0 0.144942 0.146279 0.147628\n",
            "       7)      698 0.112921 0.115374 0.11788\n",
            "       8)      567 0.0940576 0.0962966 0.0985888\n",
            "       9)       58 0.0819917 0.0840824 0.0862264\n",
            "    ? 10)      428 0.0628058 0.0641835 0.0655915\n",
            "  Others) <0.0654786\n",
            "\n",
            "Finished after 2658128 iterations.\n",
            "Edges visited: 16781172901\n",
            "Average edges visited: 6313\n",
            "Total time: 109.8\n",
            "Time bfs: 101.426\n",
            "Time critical: 3.2092\n",
            "Time compute finished: 3.82507\n",
            "(Printing thread: 0)\n",
            "       1)      107 0.47773 0.48045 0.483185\n",
            "       2)     1684 0.334929 0.337207 0.339501\n",
            "       3)     3437 0.237291 0.239208 0.241141\n",
            "       4)     1912 0.227258 0.229135 0.231027\n",
            "       5)     1085 0.148564 0.149295 0.150029\n",
            "       6)        0 0.145339 0.146061 0.146787\n",
            "       7)      698 0.113983 0.115313 0.116658\n",
            "       8)      567 0.0951997 0.0964152 0.0976462\n",
            "       9)       58 0.0829335 0.0840682 0.0852184\n",
            "      10)      428 0.0634677 0.0642151 0.0649713\n",
            "      11)      563 0.0623932 0.0633777 0.0643777\n",
            "\n"
          ]
        }
      ],
      "source": [
        "! ./kadabra -k 10 0.001 0.1 example_input/facebook_combined.txt "
      ]
    }
  ],
  "metadata": {
    "colab": {
      "provenance": []
    },
    "kernelspec": {
      "display_name": "Python 3",
      "name": "python3"
    },
    "language_info": {
      "name": "python"
    }
  },
  "nbformat": 4,
  "nbformat_minor": 0
}